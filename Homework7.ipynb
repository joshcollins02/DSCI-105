{
 "cells": [
  {
   "cell_type": "markdown",
   "id": "2125141d-c2f7-4122-9b26-4ea288c7593a",
   "metadata": {
    "tags": []
   },
   "source": [
    "# Homework 7: Data Exploration and Analysis in SQL"
   ]
  },
  {
   "cell_type": "markdown",
   "id": "ad8442b4-2643-4ff6-b28a-595a99d0c8a2",
   "metadata": {},
   "source": [
    "This is an **individual** assignment. Total: 20 points. Due:**<span style=\"color:red\">  Sunday, October 29, 10:00 pm </span>**."
   ]
  },
  {
   "cell_type": "markdown",
   "id": "d14f615c-dd3d-4231-aa75-50e003c1fcbe",
   "metadata": {},
   "source": [
    "**Objective**: The primary purpose of this assignment, titled \"Data Exploration and Analysis in SQL: Insights from an Online Store's Transactions,\" is to provide students with hands-on experience in applying SQL queries for real-world data analysis. "
   ]
  },
  {
   "cell_type": "markdown",
   "id": "082ac2b0-244d-4661-9f40-57035c537763",
   "metadata": {},
   "source": [
    "Consider the table `transactions` with the following schema:\n",
    "\n",
    "```sql\n",
    "    id INT AUTO_INCREMENT PRIMARY KEY,\n",
    "    product_id INT,\n",
    "    customer_id INT,\n",
    "    quantity INT,\n",
    "    price_per_unit DECIMAL(10, 2),\n",
    "    purchase_date DATE\n",
    "```"
   ]
  },
  {
   "cell_type": "markdown",
   "id": "801c4ed3-dd7e-4f04-bdd6-8200012a93ad",
   "metadata": {},
   "source": [
    "#### Task 1. Create the Table."
   ]
  },
  {
   "cell_type": "markdown",
   "id": "e08ec3a0-ec62-4e0a-b15b-f1e7846d6a6f",
   "metadata": {},
   "source": [
    "```sql\n",
    "CREATE TABLE transactions (\n",
    "\tid INT AUTO_INCREMENT PRIMARY KEY,\n",
    "\tproduct_id INT,\n",
    "    customer_id INT,\n",
    "    quantity INT,\n",
    "    price_per_unit DECIMAL(10, 2),\n",
    "    purchase_date DATE\n",
    "    );\n",
    "```"
   ]
  },
  {
   "cell_type": "markdown",
   "id": "d29c8149-1906-4ea9-9d45-2b0f1d9b8060",
   "metadata": {},
   "source": [
    "#### Task 2. Use a Python script to populate the table with 10,000 records."
   ]
  },
  {
   "cell_type": "code",
   "execution_count": 19,
   "id": "b43cb975-d01d-44e9-ab73-723f0b1e7f25",
   "metadata": {},
   "outputs": [
    {
     "name": "stdout",
     "output_type": "stream",
     "text": [
      "MySQL connection is closed\n"
     ]
    }
   ],
   "source": [
    "import mysql.connector\n",
    "import random\n",
    "from faker import Faker\n",
    "from mysql.connector import Error\n",
    "from datetime import datetime\n",
    "\n",
    "fake = Faker()\n",
    "\n",
    "try:\n",
    "    # Establish a database connection\n",
    "    connection = mysql.connector.connect(user='root', password='rootpassword', host='localhost', database='josh')\n",
    "\n",
    "    cursor = connection.cursor()\n",
    "\n",
    "    # SQL query for inserting data\n",
    "    add_transaction = (\"INSERT INTO transactions\"\n",
    "                \"(product_id, customer_id, quantity, price_per_unit, purchase_date) \"\n",
    "                \"VALUES (%s, %s, %s, %s, %s)\")\n",
    "\n",
    "    # Insert 10000 records\n",
    "    for _ in range(10000):\n",
    "        # Random data for each book\n",
    "        product_id = random.randint(1,30)\n",
    "        customer_id = random.randint(1,1000)\n",
    "        quantity = random.randint(1,100)\n",
    "        price_per_unit = random.uniform(10, 2)\n",
    "        purchase_date = fake.date_between()\n",
    "        \n",
    "        # Data for insertion\n",
    "        transaction_data = (product_id, customer_id, quantity, price_per_unit, purchase_date)\n",
    "\n",
    "        # Insert new book\n",
    "        cursor.execute(add_transaction, transaction_data)\n",
    "\n",
    "    # Commit the transaction\n",
    "    connection.commit()\n",
    "\n",
    "except mysql.connector.Error as error:\n",
    "    print(f\"Failed to insert record into MySQL table {error}\")\n",
    "\n",
    "finally:\n",
    "    # Close communication with the database\n",
    "    if (connection.is_connected()):\n",
    "        cursor.close()\n",
    "        connection.close()\n",
    "        print(\"MySQL connection is closed\")"
   ]
  },
  {
   "cell_type": "markdown",
   "id": "3960fbdd-117b-41a2-b110-66cb671aaebf",
   "metadata": {},
   "source": [
    "#### Task 3. List all unique products that have ever been sold."
   ]
  },
  {
   "cell_type": "markdown",
   "id": "81d2a887-1a28-47cd-88da-4824785ae00e",
   "metadata": {},
   "source": [
    "```sql\n",
    "SELECT COUNT(DISTINCT product_id) AS unique_products \n",
    "FROM transactions;\n",
    "```\n",
    "30 unique products"
   ]
  },
  {
   "cell_type": "markdown",
   "id": "7db4b345-ac5b-4416-a2db-5b063e233617",
   "metadata": {},
   "source": [
    "#### Task 4. Determine the average number of items sold per transaction."
   ]
  },
  {
   "cell_type": "markdown",
   "id": "5c3d7b37-0422-47ad-bb42-f6160f96110d",
   "metadata": {},
   "source": [
    "```sql\n",
    "SELECT AVG(quantity) AS avg_q FROM transactions;\n",
    "```\n",
    "50 items sold"
   ]
  },
  {
   "cell_type": "markdown",
   "id": "781b4cad-f274-4658-8d94-8923f45a71fe",
   "metadata": {},
   "source": [
    "#### Task 5. Analyze the total sales per year to observe annual sales trends."
   ]
  },
  {
   "cell_type": "markdown",
   "id": "9f140f8a-9be4-4459-b108-33f787e26296",
   "metadata": {},
   "source": [
    "```sql\n",
    "SELECT YEAR(purchase_date) AS year_purch, SUM(quantity*price_per_unit) AS total_s FROM transactions\n",
    "GROUP BY year_purch;\n",
    "```\n",
    "It rose quickly from 1993 to 2007 then plateaued"
   ]
  },
  {
   "cell_type": "markdown",
   "id": "93808c58-847a-4d2d-a293-5568a3a71571",
   "metadata": {},
   "source": [
    "#### Task 6. Identify products that have been sold more than 50 times."
   ]
  },
  {
   "cell_type": "markdown",
   "id": "3d8b41d4-3053-4c53-aab7-179d7982d80f",
   "metadata": {},
   "source": [
    "```sql\n",
    "SELECT product_id, COUNT(*) AS prod_time FROM transactions\n",
    "GROUP BY product_id HAVING COUNT(*) > 50;\n",
    "```"
   ]
  },
  {
   "cell_type": "markdown",
   "id": "37435505-d577-403f-acd9-396024e0741e",
   "metadata": {},
   "source": [
    "#### Task 7. Calculate the total revenue generated from all transactions."
   ]
  },
  {
   "cell_type": "markdown",
   "id": "e26fbdda-0810-4f55-8eee-02c8e9edab96",
   "metadata": {},
   "source": [
    "```sql\n",
    "SELECT SUM(price_per_unit*quantity) AS total_p FROM transactions;\n",
    "```\n",
    "6008678.53"
   ]
  },
  {
   "cell_type": "markdown",
   "id": "8b73282a-02c2-431c-bcb8-4558c5af5388",
   "metadata": {},
   "source": [
    "#### Task 8. Find the average value of a purchase across all transactions."
   ]
  },
  {
   "cell_type": "markdown",
   "id": "a98912d4-69e9-4a24-abd2-16cf5ec266ed",
   "metadata": {},
   "source": [
    "```sql\n",
    "SELECT AVG(quantity*price_per_unit) AS avg_c FROM transactions;\n",
    "```\n",
    "300.433927"
   ]
  },
  {
   "cell_type": "markdown",
   "id": "acc774c5-d890-4280-8496-82dcbb881a66",
   "metadata": {},
   "source": [
    "#### Task 9. Identify which product has been sold the most in terms of quantity."
   ]
  },
  {
   "cell_type": "markdown",
   "id": "a1b84b48-d26e-4da1-9bcb-8f47ef859452",
   "metadata": {},
   "source": [
    "```sql\n",
    "SELECT product_id, SUM(quantity) AS prod_total FROM transactions\n",
    "GROUP BY product_id ORDER BY prod_total DESC;\n",
    "```\n",
    "product 19, 37789"
   ]
  },
  {
   "cell_type": "markdown",
   "id": "af8eeb47-3249-46bc-951d-d355576c0cfa",
   "metadata": {},
   "source": [
    "#### Task 10. Calculate the total sales amount each customer has contributed to."
   ]
  },
  {
   "cell_type": "markdown",
   "id": "54e9a9e9-2dfd-4bf5-89fe-430958476d70",
   "metadata": {},
   "source": [
    "```sql\n",
    "SELECT customer_id, SUM(quantity*price_per_unit) AS total_s FROM transactions\n",
    "GROUP BY customer_id ORDER BY total_s DESC;\n",
    "```"
   ]
  },
  {
   "cell_type": "markdown",
   "id": "792abbd7-7bf0-44f8-8a0a-b24c8c7e1f5c",
   "metadata": {},
   "source": [
    "#### Task 11. Summarize total sales revenue, broken down by each month."
   ]
  },
  {
   "cell_type": "markdown",
   "id": "9214d490-93a0-42f8-99f6-3cfc01f167ce",
   "metadata": {},
   "source": [
    "```sql\n",
    "SELECT\n",
    "\t\tCASE MONTH(purchase_date)\n",
    "    WHEN 1 THEN 'January'\n",
    "    WHEN 2 THEN 'February'\n",
    "    WHEN 3 THEN 'March'\n",
    "    WHEN 4 THEN 'April'\n",
    "    WHEN 5 THEN 'May'\n",
    "    WHEN 6 THEN 'June'\n",
    "    WHEN 7 THEN 'July'\n",
    "    WHEN 8 THEN 'August'\n",
    "    WHEN 9 THEN 'September'\n",
    "    WHEN 10 THEN 'October'\n",
    "    WHEN 11 THEN 'November'\n",
    "    WHEN 12 THEN 'December'\n",
    "    END as month_n, SUM(quantity*price_per_unit) AS total_s FROM transactions\n",
    "    GROUP BY month_n ORDER BY total_s DESC;\n",
    "```\n",
    "'October','535007.71'\n",
    "'March','519346.39'\n",
    "'July','518960.05'\n",
    "'January','513601.98'\n",
    "'May','511880.03'\n",
    "'November','500839.90'\n",
    "'December','497849.49'\n",
    "'September','496765.89'\n",
    "'June','485184.34'\n",
    "'April','482952.24'\n",
    "'August','477813.03'\n",
    "'February','468477.48'"
   ]
  },
  {
   "cell_type": "markdown",
   "id": "d2bc6197-acf9-474a-b2ae-5c4174ef1096",
   "metadata": {},
   "source": [
    "#### Task 12. Retrieve details of all transactions that occurred in the month of January."
   ]
  },
  {
   "cell_type": "markdown",
   "id": "0763ba7f-f1ae-4948-bc08-58213e9e806f",
   "metadata": {},
   "source": [
    "```sql\n",
    "SELECT * FROM transactions WHERE MONTH(purchase_date) = 1;\n",
    "```"
   ]
  },
  {
   "cell_type": "markdown",
   "id": "6e7c79bf-27dc-4669-b91e-0641f36332e3",
   "metadata": {},
   "source": [
    "#### Task 13. Calculate the average number of transactions per month."
   ]
  },
  {
   "cell_type": "markdown",
   "id": "1e1ce271-be62-4136-b71f-4c0f49557532",
   "metadata": {},
   "source": [
    "```sql\n",
    "SELECT MONTH(purchase_date), COUNT(*) AS month_p FROM transactions\n",
    "GROUP BY month_p;\n",
    "```\n",
    "'1','1721'\n",
    "'2','1577'\n",
    "'3','1741'\n",
    "'4','1618'\n",
    "'5','1692'\n",
    "'6','1602'\n",
    "'7','1715'\n",
    "'8','1574'\n",
    "'9','1644'\n",
    "'10','1753'\n",
    "'11','1646'\n",
    "'12','1717'"
   ]
  },
  {
   "cell_type": "markdown",
   "id": "0b59a88f-37fb-4fc3-b317-ec2ab1fc948e",
   "metadata": {},
   "source": [
    "#### Task 14.  List the top three transactions with the highest price per unit."
   ]
  },
  {
   "cell_type": "markdown",
   "id": "69f6cf48-25de-439e-b4f4-c39943c96ccb",
   "metadata": {},
   "source": [
    "```sql\n",
    "SELECT * FROM transactions\n",
    "ORDER BY price_per_unit DESC LIMIT 3;\n",
    "```\n",
    "'13908','6','988','66','10.00','2003-05-17'\n",
    "'12409','8','116','39','10.00','2017-03-21'\n",
    "'12901','27','114','53','10.00','2013-05-15'"
   ]
  },
  {
   "cell_type": "markdown",
   "id": "a23604f4-651d-4b7a-a610-0df2a6389c07",
   "metadata": {},
   "source": [
    "#### Task 15. Find customers whose total spending is above the average spending of all customers."
   ]
  },
  {
   "cell_type": "markdown",
   "id": "b2b741e2-1fa9-4749-8d8d-87be5d799bf3",
   "metadata": {},
   "source": [
    "```sql\n",
    "SELECT customer_id, SUM(quantity*price_per_unit) AS total_s FROM transactions\n",
    "GROUP BY customer_id HAVING total_s > (SELECT AVG(quantity*price_per_unit) FROM transactions);\n",
    "```"
   ]
  },
  {
   "cell_type": "code",
   "execution_count": null,
   "id": "735d6a12-0ec8-464d-8e4d-4b9a10a9203a",
   "metadata": {},
   "outputs": [],
   "source": []
  }
 ],
 "metadata": {
  "kernelspec": {
   "display_name": "Python 3 (ipykernel)",
   "language": "python",
   "name": "python3"
  },
  "language_info": {
   "codemirror_mode": {
    "name": "ipython",
    "version": 3
   },
   "file_extension": ".py",
   "mimetype": "text/x-python",
   "name": "python",
   "nbconvert_exporter": "python",
   "pygments_lexer": "ipython3",
   "version": "3.11.5"
  }
 },
 "nbformat": 4,
 "nbformat_minor": 5
}
