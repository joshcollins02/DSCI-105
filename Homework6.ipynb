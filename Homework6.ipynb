{
 "cells": [
  {
   "cell_type": "markdown",
   "id": "cd41c7bf-2986-4a11-88cf-d6b51ffb792b",
   "metadata": {},
   "source": [
    "# Homework 6: Modifying the Configuration of a Table and SELECT statements"
   ]
  },
  {
   "cell_type": "markdown",
   "id": "d60b458a-3baf-412e-a77c-aba1c8549aab",
   "metadata": {},
   "source": [
    "This is an **individual** assignment. Total: 20 points. Due:**<span style=\"color:red\">  Sunday, October 22, 10:00 pm </span>**."
   ]
  },
  {
   "cell_type": "markdown",
   "id": "51adf3b1-2304-4e3b-b1c0-3879e43e2b72",
   "metadata": {},
   "source": [
    "#### Task 1: \n",
    "Write a SQL statement to create a table named `libraries` with a primary key `library_id`. The table also includes the following columns: `library_name` (text data type), and `address` (text data type)."
   ]
  },
  {
   "cell_type": "markdown",
   "id": "19566028-b1db-4973-9268-146c43b72aeb",
   "metadata": {},
   "source": [
    "```sql\n",
    "CREATE TABLE libraries (\n",
    "\tlibrary_id INT PRIMARY KEY AUTO_INCREMENT,\n",
    "    library_name TEXT,\n",
    "    address TEXT\n",
    ");\n",
    "```"
   ]
  },
  {
   "cell_type": "markdown",
   "id": "af6b661e-555f-4775-818c-d70501249cfd",
   "metadata": {},
   "source": [
    "#### Task 2:\n",
    "Alter the `libraries` table to add a new column named `phone_number` with a data type of VARCHAR(15)."
   ]
  },
  {
   "cell_type": "markdown",
   "id": "7e95318f-4431-4a12-8a2f-3f3b1200f629",
   "metadata": {},
   "source": [
    "```sql\n",
    "ALTER TABLE libraries\n",
    "ADD phone_number VARCHAR(15);\n",
    "```"
   ]
  },
  {
   "cell_type": "markdown",
   "id": "5735d91a-d346-4328-b6a3-dd640e28c953",
   "metadata": {},
   "source": [
    "#### Task 3:\n",
    "Write an SQL statement to modify the `phone_number` column in the `libraries` table to change its data type to VARCHAR(20)."
   ]
  },
  {
   "cell_type": "markdown",
   "id": "d74f6031-9f40-4b14-919c-adc93da17d76",
   "metadata": {},
   "source": [
    "```sql\n",
    "ALTER TABLE libraries\n",
    "MODIFY phone_number VARCHAR(20);\n",
    "```"
   ]
  },
  {
   "cell_type": "markdown",
   "id": "b9a6ed93-81c5-4214-8a17-ab1d738a1a67",
   "metadata": {},
   "source": [
    "#### Task 4:\n",
    "Modify the `library_name` column in the `libraries` table to add a NOT NULL constraint."
   ]
  },
  {
   "cell_type": "markdown",
   "id": "b697846f-8738-49cb-9007-46fa9c9aab40",
   "metadata": {},
   "source": [
    "```sql\n",
    "ALTER TABLE libraries\n",
    "MODIFY library_name TEXT NOT NULL;\n",
    "```"
   ]
  },
  {
   "cell_type": "markdown",
   "id": "12062000-e2af-4487-975a-50e35beb633f",
   "metadata": {},
   "source": [
    "#### Task 5:\n",
    "Write an SQL statement to alter the `library_name` column again to remove the NOT NULL constraint."
   ]
  },
  {
   "cell_type": "markdown",
   "id": "43d30099-17ff-4fa4-ac7c-22b8ff719b50",
   "metadata": {},
   "source": [
    "```sql\n",
    "ALTER TABLE libraries\n",
    "MODIFY library_name TEXT;\n",
    "```"
   ]
  },
  {
   "cell_type": "markdown",
   "id": "956002f0-da9f-4691-b626-4f255efd3b91",
   "metadata": {},
   "source": [
    "#### Task 6:\n",
    "Alter the `libraries` table to add a UNIQUE constraint to the `phone_number` column."
   ]
  },
  {
   "cell_type": "markdown",
   "id": "a7805141-4070-48dd-9f51-96877e2898f8",
   "metadata": {},
   "source": [
    "```sql\n",
    "ALTER TABLE libraries\n",
    "ADD UNIQUE (phone_number);\n",
    "```"
   ]
  },
  {
   "cell_type": "markdown",
   "id": "5fe69699-2623-4624-8716-cddd37942447",
   "metadata": {},
   "source": [
    "#### Task 7:\n",
    "Write an SQL statement to remove the UNIQUE constraint from the `phone_number` column in the `libraries` table."
   ]
  },
  {
   "cell_type": "markdown",
   "id": "4011574a-d8bf-4c36-b681-afac52d8dae2",
   "metadata": {},
   "source": [
    "```sql\n",
    "SHOW INDEX FROM libraries;\n",
    "\n",
    "ALTER TABLE libraries\n",
    "DROP INDEX phone_number;\n",
    "```"
   ]
  },
  {
   "cell_type": "markdown",
   "id": "a10d2f0b-9e64-474d-a1ef-d021ab446930",
   "metadata": {},
   "source": [
    "#### Task 8:\n",
    "Alter the `libraries` table, setting a DEFAULT value for the `address` column as `'Unknown'`."
   ]
  },
  {
   "cell_type": "markdown",
   "id": "88eb507d-5a72-4dde-a3cc-b0a02d7645b7",
   "metadata": {},
   "source": [
    "```sql\n",
    "ALTER TABLE libraries\n",
    "MODIFY address VARCHAR(20)\n",
    "\n",
    "ALTER TABLE libraries\n",
    "ALTER COLUMN address SET DEFAULT 'UNKNOWN';\n",
    "```"
   ]
  },
  {
   "cell_type": "markdown",
   "id": "3564c71f-cb09-4d5f-8759-0393b3065c2c",
   "metadata": {},
   "source": [
    "#### Task 9:\n",
    "Write an SQL statement to remove the DEFAULT constraint from the `address` column in the `libraries` table."
   ]
  },
  {
   "cell_type": "markdown",
   "id": "bbd35bbc-c859-4c1e-b219-14ca475c6e80",
   "metadata": {},
   "source": [
    "```sql\n",
    "ALTER TABLE libraries\n",
    "ALTER COLUMN address DROP DEFAULT;\n",
    "```"
   ]
  },
  {
   "cell_type": "markdown",
   "id": "c408ebac-81fb-45df-8210-0152f52f1c55",
   "metadata": {},
   "source": [
    "#### Task 10:\n",
    "Write an SQL statement to drop the `phone_number` column from the `libraries` table."
   ]
  },
  {
   "cell_type": "markdown",
   "id": "9535f85a-06ab-4908-875a-5c1f24ce7564",
   "metadata": {},
   "source": [
    "```sql\n",
    "ALTER TABLE libraries\n",
    "DROP COLUMN phone_number;\n",
    "```"
   ]
  },
  {
   "cell_type": "markdown",
   "id": "dbd7a698-162e-4c64-8849-dcf43c90f80e",
   "metadata": {},
   "source": [
    "For each of these exercises, after performing the operations, use the `DESCRIBE`statement to view the structure of the table and verify the changes:\n",
    "```sql\n",
    "DESC libraries;\n",
    "```\n",
    "Practicing these exercises will help solidify your understanding of manipulating table structures using SQL and give you a practical understanding of the effects these operations have on your data and schema."
   ]
  },
  {
   "cell_type": "markdown",
   "id": "cc1b2abe-7e8a-4b0d-a093-8daf76c0e13f",
   "metadata": {},
   "source": [
    "---"
   ]
  },
  {
   "cell_type": "markdown",
   "id": "af8f36ad-497c-42a3-ae1b-65db062d07f4",
   "metadata": {},
   "source": [
    "<i> Note: The next exercises assume you have a database with a table named `employees` that has various columns like `id`, `name`, `department`, `salary`, `position`, `email`, `hire_date`, etc.</i>"
   ]
  },
  {
   "cell_type": "markdown",
   "id": "845f4f19-f427-48cb-8aa0-0283a8d9dd4a",
   "metadata": {},
   "source": [
    "#### Task 11:\n",
    "Write a query to select the `name` and `email` columns from the `employees` table."
   ]
  },
  {
   "cell_type": "markdown",
   "id": "6c2262b3-19fc-41c8-bdba-2e05b6d15489",
   "metadata": {},
   "source": [
    "```sql\n",
    "SELECT name, email FROM employees;\n",
    "```"
   ]
  },
  {
   "cell_type": "markdown",
   "id": "89dc0dda-a7d8-439c-8d1e-eeb0194c23e5",
   "metadata": {},
   "source": [
    "#### Task 12:\n",
    "Write a query to find all the unique department entries in the `employees` table."
   ]
  },
  {
   "cell_type": "markdown",
   "id": "35660911-6d3d-47c6-9062-9e7f4274055c",
   "metadata": {},
   "source": [
    "```sql\n",
    "SELECT DISTINCT department FROM employees;\n",
    "```"
   ]
  },
  {
   "cell_type": "markdown",
   "id": "14c5a69c-0e50-4052-91f0-8a8be9a604b6",
   "metadata": {},
   "source": [
    "#### Task 13:\n",
    "Write a query to retrieve all information (*) for employees in the `Finance` department."
   ]
  },
  {
   "cell_type": "markdown",
   "id": "6c1d0d5a-c5a8-4acf-b855-64fde6d17046",
   "metadata": {},
   "source": [
    "```sql\n",
    "SELECT * FROM employees Finance;\n",
    "```"
   ]
  },
  {
   "cell_type": "markdown",
   "id": "81634b07-056d-43ef-a841-146054d2da7c",
   "metadata": {},
   "source": [
    "#### Task 14:\n",
    "Write a query to select all employees' `names` and `salaries` and order the results by `salary` in `descending order`."
   ]
  },
  {
   "cell_type": "markdown",
   "id": "36b5f575-1334-4a37-801f-71de4d4aa28d",
   "metadata": {},
   "source": [
    "```sql\n",
    "SELECT name, salary FROM employees\n",
    "ORDER BY salary DESC;\n",
    "```"
   ]
  },
  {
   "cell_type": "markdown",
   "id": "f6370310-84cf-483c-9f3c-455e1373803b",
   "metadata": {},
   "source": [
    "#### Task 15:\n",
    "Write a query to select the `top 5` employees with the `highest salaries`."
   ]
  },
  {
   "cell_type": "markdown",
   "id": "f6ef2e8a-b4c2-4e54-920f-7d181fde15f7",
   "metadata": {},
   "source": [
    "```sql\n",
    "SELECT * FROM employees\n",
    "ORDER BY salary DESC\n",
    "LIMIT 5;\n",
    "```"
   ]
  },
  {
   "cell_type": "markdown",
   "id": "764bbbe9-2287-487e-875c-5d232fcd83cf",
   "metadata": {},
   "source": [
    "#### Task 16:\n",
    "Write a query to find the `average salary` of all employees."
   ]
  },
  {
   "cell_type": "markdown",
   "id": "33dfd352-69aa-4f18-b384-2527a8e8f069",
   "metadata": {},
   "source": [
    "```sql\n",
    "SELECT AVG(salary) AS AvgSal FROM employees;\n",
    "```"
   ]
  },
  {
   "cell_type": "markdown",
   "id": "e26889c5-a288-40d6-9fd6-341212981639",
   "metadata": {},
   "source": [
    "#### Task 17:\n",
    "Write a query to count the number of employees in each `department`."
   ]
  },
  {
   "cell_type": "markdown",
   "id": "b1383542-4f86-41fa-9040-1c02cbdb6efe",
   "metadata": {},
   "source": [
    "```sql\n",
    "SELECT department, COUNT(*) \n",
    "AS DepCounts FROM employees\n",
    "GROUP BY department;\n",
    "```"
   ]
  },
  {
   "cell_type": "markdown",
   "id": "5bf6eb2a-1402-4554-aa5c-4dd513ecac15",
   "metadata": {},
   "source": [
    "#### Task 18:\n",
    "Write a query to find departments with `more than 10 employees`."
   ]
  },
  {
   "cell_type": "markdown",
   "id": "e5607846-98c5-4d33-9d88-728894644944",
   "metadata": {},
   "source": [
    "```sql\n",
    "SELECT COUNT(department) FROM employees\n",
    "WHERE department > 10;\n",
    "```"
   ]
  },
  {
   "cell_type": "markdown",
   "id": "c2b35bb0-4468-45fc-92b7-1fff70ca1f79",
   "metadata": {},
   "source": [
    "#### Task 19:\n",
    "Write a query to find employees hired in the `year 2020`."
   ]
  },
  {
   "cell_type": "markdown",
   "id": "0be7c031-7ebb-42d2-8041-a60137d3f2fd",
   "metadata": {},
   "source": [
    "```sql\n",
    "SELECT YEAR('2020') FROM employees;\n",
    "```"
   ]
  },
  {
   "cell_type": "markdown",
   "id": "5d5c56b0-a997-4da0-9b9a-452bd60c9066",
   "metadata": {},
   "source": [
    "#### Task 20 (Assuming you have another table departments with columns id and department_name):\n",
    "Write a query to select all employees along with their `department names`, not department IDs."
   ]
  },
  {
   "cell_type": "markdown",
   "id": "99613522-e752-49a2-93b8-bc73e5de0741",
   "metadata": {},
   "source": [
    "```sql\n",
    "SELECT employees.*, departments.department_name FROM employees\n",
    "INNER JOIN departments;\n",
    "```"
   ]
  },
  {
   "cell_type": "markdown",
   "id": "6157aff3-69ad-4fe9-80a4-fae8e177b51a",
   "metadata": {},
   "source": [
    "These exercises are progressively structured to cover the basics to more complex uses of the SELECT statement. Solving them will provide a good grasp of how to query data from a MySQL database. "
   ]
  }
 ],
 "metadata": {
  "kernelspec": {
   "display_name": "Python 3 (ipykernel)",
   "language": "python",
   "name": "python3"
  },
  "language_info": {
   "codemirror_mode": {
    "name": "ipython",
    "version": 3
   },
   "file_extension": ".py",
   "mimetype": "text/x-python",
   "name": "python",
   "nbconvert_exporter": "python",
   "pygments_lexer": "ipython3",
   "version": "3.11.5"
  }
 },
 "nbformat": 4,
 "nbformat_minor": 5
}
