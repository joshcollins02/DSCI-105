{
 "cells": [
  {
   "cell_type": "markdown",
   "id": "3ec98314-7789-4a32-8591-b2157cc75d5b",
   "metadata": {},
   "source": [
    "# Homework 9: Exploring a Store Sales Database with MongoDB"
   ]
  },
  {
   "cell_type": "markdown",
   "id": "e62f335a-f753-40eb-b11c-2ab51fae3c59",
   "metadata": {},
   "source": [
    "This is an **individual** assignment. Total: 20 points. Due:**<span style=\"color:red\">  Sunday, November 19, 10:00 pm </span>**.\n",
    "\n",
    "In this homework you will practice writing MongoDB queries to explore a dataset containing sales transactions. The dataset includes various fields such as invoice numbers, customer demographics, transaction details, and more.\n",
    "\n",
    "**Dataset**: https://raw.githubusercontent.com/catalinVeghes/DSCI-105-Applied-Data-Analytics/main/datasets/stores_dataset.csv"
   ]
  },
  {
   "cell_type": "markdown",
   "id": "7979c377-1b40-4303-83cd-80658f0e090b",
   "metadata": {},
   "source": [
    "**Task 1**: Import data from the provided CSV file into a MongoDB database. You need to create a new database called `stores_db` and within that database, a collection named `stores`."
   ]
  },
  {
   "cell_type": "code",
   "execution_count": 48,
   "id": "88020e94-89d4-48be-bc43-4e3254799898",
   "metadata": {
    "tags": []
   },
   "outputs": [
    {
     "name": "stdout",
     "output_type": "stream",
     "text": [
      "[{'invoice_no': 'I138884', 'invoice_date': '10/30/2016 9:58', 'customer_id': 'C241288', 'gender': 'Female', 'age': 28, 'category': 'Clothing', 'quantity': 5, 'selling_price_per_unit': 1500.4, 'cost_price_per_unit': 1425.38, 'payment_method': 'Credit Card', 'region': 'South', 'state': 'Kentucky', 'shopping_mall': 'Kanyon'}, {'invoice_no': 'I317333', 'invoice_date': '10/30/2016 9:58', 'customer_id': 'C111565', 'gender': 'Male', 'age': 21, 'category': 'Shoes', 'quantity': 3, 'selling_price_per_unit': 1800.51, 'cost_price_per_unit': 1620.459, 'payment_method': 'Debit Card', 'region': 'South', 'state': 'Kentucky', 'shopping_mall': 'Viaport Outlet'}, {'invoice_no': 'I127801', 'invoice_date': '10/30/2016 9:58', 'customer_id': 'C266599', 'gender': 'Male', 'age': 20, 'category': 'Clothing', 'quantity': 1, 'selling_price_per_unit': 300.08, 'cost_price_per_unit': 295.06, 'payment_method': 'Cash', 'region': 'West', 'state': 'California', 'shopping_mall': 'Metrocity'}, {'invoice_no': 'I173702', 'invoice_date': '10/30/2016 9:58', 'customer_id': 'C988172', 'gender': 'Female', 'age': 66, 'category': 'Shoes', 'quantity': 5, 'selling_price_per_unit': 3000.85, 'cost_price_per_unit': 2900.765, 'payment_method': 'Credit Card', 'region': 'South', 'state': 'Florida', 'shopping_mall': 'Metropol AVM'}, {'invoice_no': 'I337046', 'invoice_date': '10/30/2016 9:59', 'customer_id': 'C189076', 'gender': 'Female', 'age': 53, 'category': 'Books', 'quantity': 4, 'selling_price_per_unit': 60.6, 'cost_price_per_unit': 45.45, 'payment_method': 'Cash', 'region': 'South', 'state': 'Florida', 'shopping_mall': 'Kanyon'}, {'invoice_no': 'I227836', 'invoice_date': '10/30/2016 9:59', 'customer_id': 'C657758', 'gender': 'Female', 'age': 28, 'category': 'Clothing', 'quantity': 5, 'selling_price_per_unit': 1500.4, 'cost_price_per_unit': 1475.38, 'payment_method': 'Credit Card', 'region': 'West', 'state': 'Oregon', 'shopping_mall': 'Viaport Outlet'}, {'invoice_no': 'I121056', 'invoice_date': '10/30/2016 9:59', 'customer_id': 'C151197', 'gender': 'Female', 'age': 49, 'category': 'Cosmetics', 'quantity': 1, 'selling_price_per_unit': 40.66, 'cost_price_per_unit': 35.462, 'payment_method': 'Cash', 'region': 'West', 'state': 'California', 'shopping_mall': 'Istinye Park'}, {'invoice_no': 'I293112', 'invoice_date': '10/30/2016 9:59', 'customer_id': 'C176086', 'gender': 'Female', 'age': 32, 'category': 'Clothing', 'quantity': 2, 'selling_price_per_unit': 600.16, 'cost_price_per_unit': 450.12, 'payment_method': 'Credit Card', 'region': 'West', 'state': 'California', 'shopping_mall': 'Mall of Istanbul'}, {'invoice_no': 'I293455', 'invoice_date': '10/30/2016 10:00', 'customer_id': 'C159642', 'gender': 'Male', 'age': 69, 'category': 'Clothing', 'quantity': 3, 'selling_price_per_unit': 900.24, 'cost_price_per_unit': 675.18, 'payment_method': 'Credit Card', 'region': 'West', 'state': 'California', 'shopping_mall': 'Metrocity'}, {'invoice_no': 'I326945', 'invoice_date': '10/30/2016 10:00', 'customer_id': 'C283361', 'gender': 'Female', 'age': 60, 'category': 'Clothing', 'quantity': 2, 'selling_price_per_unit': 600.16, 'cost_price_per_unit': 450.12, 'payment_method': 'Credit Card', 'region': 'West', 'state': 'California', 'shopping_mall': 'Kanyon'}] /n\n",
      "MongoDB connection successful.\n"
     ]
    }
   ],
   "source": [
    "import pandas as pd\n",
    "import requests\n",
    "from pymongo import MongoClient\n",
    "import json\n",
    "\n",
    "# URL of the CSV data\n",
    "csv_url = 'https://raw.githubusercontent.com/catalinVeghes/DSCI-105-Applied-Data-Analytics/main/datasets/stores_dataset.csv'\n",
    "\n",
    "# Read the CSV data into a Pandas DataFrame\n",
    "df = pd.read_csv(csv_url)\n",
    "\n",
    "# Convert the DataFrame to a list of dictionaries (JSON-like) for insertion into MongoDB\n",
    "records = df.to_dict(orient='records') # ‘records’ : list like [{column -> value}, … , {column -> value}]\n",
    "\n",
    "print(records[:10], '/n')\n",
    "\n",
    "from pymongo.errors import ConnectionFailure\n",
    "\n",
    "# Replace 'admin' and 'password' with your MongoDB admin username and password\n",
    "username = 'admin'\n",
    "password = 'password'\n",
    "\n",
    "# Connection URI\n",
    "# Assuming your MongoDB is running on the default port 27017\n",
    "uri = f\"mongodb://localhost:27017/\"\n",
    "\n",
    "# Connect to MongoDB\n",
    "try:\n",
    "    client = MongoClient(uri)\n",
    "    \n",
    "    # The .command() method is a flexible way to run MongoDB commands directly. It's particularly useful for administrative commands that aren't covered by more specific PyMongo methods.\n",
    "    # For example, the 'ismaster' command is a diagnostic command that returns a document with information about the MongoDB server instance. It is often used to check the status and confirm connectivity to the server.\n",
    "    client.admin.command('ismaster')\n",
    "\n",
    "    # If the above command did not raise an exception, we're connected!\n",
    "    print(\"MongoDB connection successful.\")\n",
    "\n",
    "except ConnectionFailure as e:\n",
    "    print(f\"MongoDB connection failed: {e}\")"
   ]
  },
  {
   "cell_type": "code",
   "execution_count": 49,
   "id": "dcbf8190-c8ba-421c-884e-292f230a20a4",
   "metadata": {
    "tags": []
   },
   "outputs": [
    {
     "name": "stdout",
     "output_type": "stream",
     "text": [
      "99397 records found.\n"
     ]
    }
   ],
   "source": [
    "# Replace with your remote MongoDB credentials and host information\n",
    "username = 'student'\n",
    "password = 'student_password'\n",
    "port = '27017'  # Default MongoDB port; change it if your MongoDB is running on a different port\n",
    "\n",
    "# Create the MongoDB URI\n",
    "MONGO_DB_URI = f\"mongodb://localhost:27017/\"\n",
    "\n",
    "# Constants\n",
    "DB_NAME = 'stores_db'\n",
    "COLLECTION_NAME = 'stores'\n",
    "\n",
    "# Initialize MongoDB Client\n",
    "client = MongoClient(MONGO_DB_URI)\n",
    "db = client[DB_NAME]\n",
    "collection = db[COLLECTION_NAME]\n",
    "\n",
    "if collection.count_documents({}) == 0:\n",
    "    # Insert the records into the MongoDB collection\n",
    "    result = collection.insert_many(records)\n",
    "\n",
    "    # Print confirmation\n",
    "    print(f'Inserted {len(result.inserted_ids)} records into the database.')\n",
    "else:\n",
    "    print(f'{collection.count_documents({})} records found.')"
   ]
  },
  {
   "cell_type": "code",
   "execution_count": 55,
   "id": "19fd90da-b0ef-4b86-9770-298148c100a3",
   "metadata": {
    "tags": []
   },
   "outputs": [
    {
     "data": {
      "text/html": [
       "<div>\n",
       "<style scoped>\n",
       "    .dataframe tbody tr th:only-of-type {\n",
       "        vertical-align: middle;\n",
       "    }\n",
       "\n",
       "    .dataframe tbody tr th {\n",
       "        vertical-align: top;\n",
       "    }\n",
       "\n",
       "    .dataframe thead th {\n",
       "        text-align: right;\n",
       "    }\n",
       "</style>\n",
       "<table border=\"1\" class=\"dataframe\">\n",
       "  <thead>\n",
       "    <tr style=\"text-align: right;\">\n",
       "      <th></th>\n",
       "      <th>invoice_no</th>\n",
       "      <th>invoice_date</th>\n",
       "      <th>customer_id</th>\n",
       "      <th>gender</th>\n",
       "      <th>age</th>\n",
       "      <th>category</th>\n",
       "      <th>quantity</th>\n",
       "      <th>selling_price_per_unit</th>\n",
       "      <th>cost_price_per_unit</th>\n",
       "      <th>payment_method</th>\n",
       "      <th>region</th>\n",
       "      <th>state</th>\n",
       "      <th>shopping_mall</th>\n",
       "    </tr>\n",
       "  </thead>\n",
       "  <tbody>\n",
       "    <tr>\n",
       "      <th>0</th>\n",
       "      <td>I138884</td>\n",
       "      <td>10/30/2016 9:58</td>\n",
       "      <td>C241288</td>\n",
       "      <td>Female</td>\n",
       "      <td>28</td>\n",
       "      <td>Clothing</td>\n",
       "      <td>5</td>\n",
       "      <td>1500.40</td>\n",
       "      <td>1425.3800</td>\n",
       "      <td>Credit Card</td>\n",
       "      <td>South</td>\n",
       "      <td>Kentucky</td>\n",
       "      <td>Kanyon</td>\n",
       "    </tr>\n",
       "    <tr>\n",
       "      <th>1</th>\n",
       "      <td>I317333</td>\n",
       "      <td>10/30/2016 9:58</td>\n",
       "      <td>C111565</td>\n",
       "      <td>Male</td>\n",
       "      <td>21</td>\n",
       "      <td>Shoes</td>\n",
       "      <td>3</td>\n",
       "      <td>1800.51</td>\n",
       "      <td>1620.4590</td>\n",
       "      <td>Debit Card</td>\n",
       "      <td>South</td>\n",
       "      <td>Kentucky</td>\n",
       "      <td>Viaport Outlet</td>\n",
       "    </tr>\n",
       "    <tr>\n",
       "      <th>2</th>\n",
       "      <td>I127801</td>\n",
       "      <td>10/30/2016 9:58</td>\n",
       "      <td>C266599</td>\n",
       "      <td>Male</td>\n",
       "      <td>20</td>\n",
       "      <td>Clothing</td>\n",
       "      <td>1</td>\n",
       "      <td>300.08</td>\n",
       "      <td>295.0600</td>\n",
       "      <td>Cash</td>\n",
       "      <td>West</td>\n",
       "      <td>California</td>\n",
       "      <td>Metrocity</td>\n",
       "    </tr>\n",
       "    <tr>\n",
       "      <th>3</th>\n",
       "      <td>I173702</td>\n",
       "      <td>10/30/2016 9:58</td>\n",
       "      <td>C988172</td>\n",
       "      <td>Female</td>\n",
       "      <td>66</td>\n",
       "      <td>Shoes</td>\n",
       "      <td>5</td>\n",
       "      <td>3000.85</td>\n",
       "      <td>2900.7650</td>\n",
       "      <td>Credit Card</td>\n",
       "      <td>South</td>\n",
       "      <td>Florida</td>\n",
       "      <td>Metropol AVM</td>\n",
       "    </tr>\n",
       "    <tr>\n",
       "      <th>4</th>\n",
       "      <td>I337046</td>\n",
       "      <td>10/30/2016 9:59</td>\n",
       "      <td>C189076</td>\n",
       "      <td>Female</td>\n",
       "      <td>53</td>\n",
       "      <td>Books</td>\n",
       "      <td>4</td>\n",
       "      <td>60.60</td>\n",
       "      <td>45.4500</td>\n",
       "      <td>Cash</td>\n",
       "      <td>South</td>\n",
       "      <td>Florida</td>\n",
       "      <td>Kanyon</td>\n",
       "    </tr>\n",
       "    <tr>\n",
       "      <th>...</th>\n",
       "      <td>...</td>\n",
       "      <td>...</td>\n",
       "      <td>...</td>\n",
       "      <td>...</td>\n",
       "      <td>...</td>\n",
       "      <td>...</td>\n",
       "      <td>...</td>\n",
       "      <td>...</td>\n",
       "      <td>...</td>\n",
       "      <td>...</td>\n",
       "      <td>...</td>\n",
       "      <td>...</td>\n",
       "      <td>...</td>\n",
       "    </tr>\n",
       "    <tr>\n",
       "      <th>99452</th>\n",
       "      <td>I219422</td>\n",
       "      <td>11/15/2016 12:43</td>\n",
       "      <td>C441542</td>\n",
       "      <td>Female</td>\n",
       "      <td>45</td>\n",
       "      <td>Souvenir</td>\n",
       "      <td>5</td>\n",
       "      <td>58.65</td>\n",
       "      <td>43.9875</td>\n",
       "      <td>Credit Card</td>\n",
       "      <td>South</td>\n",
       "      <td>Alabama</td>\n",
       "      <td>Kanyon</td>\n",
       "    </tr>\n",
       "    <tr>\n",
       "      <th>99453</th>\n",
       "      <td>I325143</td>\n",
       "      <td>11/15/2016 12:43</td>\n",
       "      <td>C569580</td>\n",
       "      <td>Male</td>\n",
       "      <td>27</td>\n",
       "      <td>Food &amp; Beverage</td>\n",
       "      <td>2</td>\n",
       "      <td>10.46</td>\n",
       "      <td>7.3220</td>\n",
       "      <td>Cash</td>\n",
       "      <td>South</td>\n",
       "      <td>Alabama</td>\n",
       "      <td>Viaport Outlet</td>\n",
       "    </tr>\n",
       "    <tr>\n",
       "      <th>99454</th>\n",
       "      <td>I824010</td>\n",
       "      <td>11/15/2016 12:44</td>\n",
       "      <td>C103292</td>\n",
       "      <td>Male</td>\n",
       "      <td>63</td>\n",
       "      <td>Food &amp; Beverage</td>\n",
       "      <td>2</td>\n",
       "      <td>10.46</td>\n",
       "      <td>7.3220</td>\n",
       "      <td>Debit Card</td>\n",
       "      <td>South</td>\n",
       "      <td>Alabama</td>\n",
       "      <td>Metrocity</td>\n",
       "    </tr>\n",
       "    <tr>\n",
       "      <th>99455</th>\n",
       "      <td>I702964</td>\n",
       "      <td>11/15/2016 12:44</td>\n",
       "      <td>C800631</td>\n",
       "      <td>Male</td>\n",
       "      <td>56</td>\n",
       "      <td>Technology</td>\n",
       "      <td>4</td>\n",
       "      <td>4200.00</td>\n",
       "      <td>3780.0000</td>\n",
       "      <td>Cash</td>\n",
       "      <td>South</td>\n",
       "      <td>Georgia</td>\n",
       "      <td>Istinye Park</td>\n",
       "    </tr>\n",
       "    <tr>\n",
       "      <th>99456</th>\n",
       "      <td>I232867</td>\n",
       "      <td>11/15/2016 12:44</td>\n",
       "      <td>C273973</td>\n",
       "      <td>Female</td>\n",
       "      <td>36</td>\n",
       "      <td>Souvenir</td>\n",
       "      <td>3</td>\n",
       "      <td>35.19</td>\n",
       "      <td>24.6330</td>\n",
       "      <td>Credit Card</td>\n",
       "      <td>South</td>\n",
       "      <td>Georgia</td>\n",
       "      <td>Mall of Istanbul</td>\n",
       "    </tr>\n",
       "  </tbody>\n",
       "</table>\n",
       "<p>99457 rows × 13 columns</p>\n",
       "</div>"
      ],
      "text/plain": [
       "      invoice_no      invoice_date customer_id  gender  age         category  \\\n",
       "0        I138884   10/30/2016 9:58     C241288  Female   28         Clothing   \n",
       "1        I317333   10/30/2016 9:58     C111565    Male   21            Shoes   \n",
       "2        I127801   10/30/2016 9:58     C266599    Male   20         Clothing   \n",
       "3        I173702   10/30/2016 9:58     C988172  Female   66            Shoes   \n",
       "4        I337046   10/30/2016 9:59     C189076  Female   53            Books   \n",
       "...          ...               ...         ...     ...  ...              ...   \n",
       "99452    I219422  11/15/2016 12:43     C441542  Female   45         Souvenir   \n",
       "99453    I325143  11/15/2016 12:43     C569580    Male   27  Food & Beverage   \n",
       "99454    I824010  11/15/2016 12:44     C103292    Male   63  Food & Beverage   \n",
       "99455    I702964  11/15/2016 12:44     C800631    Male   56       Technology   \n",
       "99456    I232867  11/15/2016 12:44     C273973  Female   36         Souvenir   \n",
       "\n",
       "       quantity  selling_price_per_unit  cost_price_per_unit payment_method  \\\n",
       "0             5                 1500.40            1425.3800    Credit Card   \n",
       "1             3                 1800.51            1620.4590     Debit Card   \n",
       "2             1                  300.08             295.0600           Cash   \n",
       "3             5                 3000.85            2900.7650    Credit Card   \n",
       "4             4                   60.60              45.4500           Cash   \n",
       "...         ...                     ...                  ...            ...   \n",
       "99452         5                   58.65              43.9875    Credit Card   \n",
       "99453         2                   10.46               7.3220           Cash   \n",
       "99454         2                   10.46               7.3220     Debit Card   \n",
       "99455         4                 4200.00            3780.0000           Cash   \n",
       "99456         3                   35.19              24.6330    Credit Card   \n",
       "\n",
       "      region       state     shopping_mall  \n",
       "0      South    Kentucky            Kanyon  \n",
       "1      South    Kentucky    Viaport Outlet  \n",
       "2       West  California         Metrocity  \n",
       "3      South     Florida      Metropol AVM  \n",
       "4      South     Florida            Kanyon  \n",
       "...      ...         ...               ...  \n",
       "99452  South     Alabama            Kanyon  \n",
       "99453  South     Alabama    Viaport Outlet  \n",
       "99454  South     Alabama         Metrocity  \n",
       "99455  South     Georgia      Istinye Park  \n",
       "99456  South     Georgia  Mall of Istanbul  \n",
       "\n",
       "[99457 rows x 13 columns]"
      ]
     },
     "execution_count": 55,
     "metadata": {},
     "output_type": "execute_result"
    }
   ],
   "source": [
    "df"
   ]
  },
  {
   "cell_type": "markdown",
   "id": "d6be9deb-1b04-4210-a167-b6de24cdddf5",
   "metadata": {
    "tags": []
   },
   "source": [
    "**Task 2**: Find the total number of documents in the database."
   ]
  },
  {
   "cell_type": "code",
   "execution_count": 22,
   "id": "b4c17831-6b37-4b2c-a12e-ddfc5650e619",
   "metadata": {
    "tags": []
   },
   "outputs": [
    {
     "name": "stdout",
     "output_type": "stream",
     "text": [
      "99457 records found.\n"
     ]
    }
   ],
   "source": [
    "print(f'{collection.count_documents({})} records found.')"
   ]
  },
  {
   "cell_type": "markdown",
   "id": "c0100c84-afaa-4a74-9671-e43d99701067",
   "metadata": {},
   "source": [
    "**Task 3**: Find the number of transactions that utilized `Credit Card` as the `payment_method`."
   ]
  },
  {
   "cell_type": "code",
   "execution_count": 17,
   "id": "1bea747b-abc5-41a3-bbc9-6fca68dd7d3a",
   "metadata": {
    "tags": []
   },
   "outputs": [
    {
     "data": {
      "text/plain": [
       "34931"
      ]
     },
     "execution_count": 17,
     "metadata": {},
     "output_type": "execute_result"
    }
   ],
   "source": [
    "collection.count_documents({'payment_method': 'Credit Card'})"
   ]
  },
  {
   "cell_type": "markdown",
   "id": "0fef87c2-54f3-4bd2-bc05-2d300cd9c834",
   "metadata": {},
   "source": [
    "**Task 4**: Find all transactions with a `quantity` of `10` or more."
   ]
  },
  {
   "cell_type": "code",
   "execution_count": 19,
   "id": "8178360d-38f2-4144-bffa-4dbf4e6cc3f4",
   "metadata": {
    "tags": []
   },
   "outputs": [
    {
     "name": "stdout",
     "output_type": "stream",
     "text": [
      "{'_id': ObjectId('6554ec04d34996cab1c4db29'), 'invoice_no': 'I207205', 'invoice_date': '10/30/2016 10:12', 'customer_id': 'C716161', 'gender': 'Female', 'age': 33, 'category': 'Clothing', 'quantity': 10, 'selling_price_per_unit': 300.08, 'cost_price_per_unit': 225.06, 'payment_method': 'Debit Card', 'region': 'East', 'state': 'New York', 'shopping_mall': 'Kanyon'}\n",
      "{'_id': ObjectId('6554ec04d34996cab1c4db50'), 'invoice_no': 'I283443', 'invoice_date': '10/30/2016 10:21', 'customer_id': 'C189493', 'gender': 'Male', 'age': 43, 'category': 'Technology', 'quantity': 15, 'selling_price_per_unit': 3150.0, 'cost_price_per_unit': 2677.5, 'payment_method': 'Credit Card', 'region': 'Central', 'state': 'Illinois', 'shopping_mall': 'Viaport Outlet'}\n",
      "{'_id': ObjectId('6554ec04d34996cab1c4db59'), 'invoice_no': 'I293215', 'invoice_date': '10/30/2016 10:23', 'customer_id': 'C166635', 'gender': 'Male', 'age': 18, 'category': 'Cosmetics', 'quantity': 12, 'selling_price_per_unit': 162.64, 'cost_price_per_unit': 130.112, 'payment_method': 'Credit Card', 'region': 'Central', 'state': 'Illinois', 'shopping_mall': 'Istinye Park'}\n",
      "{'_id': ObjectId('6554ec04d34996cab1c4db6d'), 'invoice_no': 'I160221', 'invoice_date': '10/30/2016 10:28', 'customer_id': 'C319231', 'gender': 'Male', 'age': 25, 'category': 'Clothing', 'quantity': 10, 'selling_price_per_unit': 900.24, 'cost_price_per_unit': 675.18, 'payment_method': 'Cash', 'region': 'West', 'state': 'Oregon', 'shopping_mall': 'Mall of Istanbul'}\n",
      "{'_id': ObjectId('6554ec04d34996cab1c4dbcc'), 'invoice_no': 'I353272', 'invoice_date': '10/30/2016 10:50', 'customer_id': 'C199311', 'gender': 'Female', 'age': 34, 'category': 'Clothing', 'quantity': 10, 'selling_price_per_unit': 300.08, 'cost_price_per_unit': 292.06, 'payment_method': 'Credit Card', 'region': 'East', 'state': 'Ohio', 'shopping_mall': 'Istinye Park'}\n",
      "{'_id': ObjectId('6554ec04d34996cab1c4dbff'), 'invoice_no': 'I282789', 'invoice_date': '10/30/2016 11:02', 'customer_id': 'C172185', 'gender': 'Female', 'age': 67, 'category': 'Cosmetics', 'quantity': 12, 'selling_price_per_unit': 81.32, 'cost_price_per_unit': 76.924, 'payment_method': 'Cash', 'region': 'West', 'state': 'Idaho', 'shopping_mall': 'Istinye Park'}\n",
      "{'_id': ObjectId('6554ec04d34996cab1c4dc1d'), 'invoice_no': 'I115679', 'invoice_date': '10/30/2016 11:09', 'customer_id': 'C266462', 'gender': 'Male', 'age': 27, 'category': 'Clothing', 'quantity': 11, 'selling_price_per_unit': 300.08, 'cost_price_per_unit': 285.06, 'payment_method': 'Cash', 'region': 'Central', 'state': 'Michigan', 'shopping_mall': 'Kanyon'}\n"
     ]
    }
   ],
   "source": [
    "results = collection.find({'quantity': {'$gte': 10}})\n",
    "for stores in results:\n",
    "    print(stores)"
   ]
  },
  {
   "cell_type": "markdown",
   "id": "2183ff36-91c9-4a1f-a8ec-f87b3e0ae613",
   "metadata": {},
   "source": [
    "**Task 5**: Find all transactions at `Metrocity mall` involving customers aged `18 to 20` who used a `Debit Card` to buy `at least 5 Toys`."
   ]
  },
  {
   "cell_type": "code",
   "execution_count": 37,
   "id": "a7ea0eeb-1d8b-4896-b32b-f595946a3183",
   "metadata": {
    "tags": []
   },
   "outputs": [
    {
     "name": "stdout",
     "output_type": "stream",
     "text": [
      "{'_id': ObjectId('6554ec04d34996cab1c4e1fa'), 'invoice_no': 'I311320', 'invoice_date': '10/30/2016 16:59', 'customer_id': 'C289977', 'gender': 'Male', 'age': 18, 'category': 'Toys', 'quantity': 5, 'selling_price_per_unit': 179.2, 'cost_price_per_unit': 143.36, 'payment_method': 'Debit Card', 'region': 'West', 'state': 'Oregon', 'shopping_mall': 'Metrocity'}\n",
      "{'_id': ObjectId('6554ec04d34996cab1c4e29f'), 'invoice_no': 'I148903', 'invoice_date': '10/30/2016 17:38', 'customer_id': 'C132867', 'gender': 'Female', 'age': 19, 'category': 'Toys', 'quantity': 5, 'selling_price_per_unit': 179.2, 'cost_price_per_unit': 143.36, 'payment_method': 'Debit Card', 'region': 'Central', 'state': 'Illinois', 'shopping_mall': 'Metrocity'}\n",
      "{'_id': ObjectId('6554ec04d34996cab1c4e3c8'), 'invoice_no': 'I153391', 'invoice_date': '10/30/2016 18:47', 'customer_id': 'C339188', 'gender': 'Female', 'age': 18, 'category': 'Souvenir', 'quantity': 5, 'selling_price_per_unit': 58.65, 'cost_price_per_unit': 43.9875, 'payment_method': 'Debit Card', 'region': 'East', 'state': 'New York', 'shopping_mall': 'Metrocity'}\n",
      "{'_id': ObjectId('6554ec04d34996cab1c4f3a4'), 'invoice_no': 'I277800', 'invoice_date': '10/31/2016 10:34', 'customer_id': 'C263417', 'gender': 'Female', 'age': 19, 'category': 'Cosmetics', 'quantity': 5, 'selling_price_per_unit': 203.3, 'cost_price_per_unit': 162.64, 'payment_method': 'Debit Card', 'region': 'Central', 'state': 'Michigan', 'shopping_mall': 'Metrocity'}\n",
      "{'_id': ObjectId('6554ec04d34996cab1c4f408'), 'invoice_no': 'I322119', 'invoice_date': '10/31/2016 10:58', 'customer_id': 'C140512', 'gender': 'Male', 'age': 19, 'category': 'Toys', 'quantity': 5, 'selling_price_per_unit': 179.2, 'cost_price_per_unit': 143.36, 'payment_method': 'Debit Card', 'region': 'East', 'state': 'Pennsylvania', 'shopping_mall': 'Metrocity'}\n",
      "{'_id': ObjectId('6554ec04d34996cab1c4f738'), 'invoice_no': 'I142348', 'invoice_date': '10/31/2016 14:08', 'customer_id': 'C264077', 'gender': 'Female', 'age': 20, 'category': 'Books', 'quantity': 5, 'selling_price_per_unit': 75.75, 'cost_price_per_unit': 56.8125, 'payment_method': 'Debit Card', 'region': 'West', 'state': 'California', 'shopping_mall': 'Metrocity'}\n",
      "{'_id': ObjectId('6554ec04d34996cab1c4ff4d'), 'invoice_no': 'I171620', 'invoice_date': '10/31/2016 22:11', 'customer_id': 'C247197', 'gender': 'Male', 'age': 20, 'category': 'Clothing', 'quantity': 5, 'selling_price_per_unit': 1500.4, 'cost_price_per_unit': 1425.38, 'payment_method': 'Debit Card', 'region': 'Central', 'state': 'Michigan', 'shopping_mall': 'Metrocity'}\n",
      "{'_id': ObjectId('6554ec04d34996cab1c50658'), 'invoice_no': 'I332984', 'invoice_date': '11/1/2016 5:11', 'customer_id': 'C298888', 'gender': 'Male', 'age': 19, 'category': 'Toys', 'quantity': 5, 'selling_price_per_unit': 179.2, 'cost_price_per_unit': 143.36, 'payment_method': 'Debit Card', 'region': 'West', 'state': 'California', 'shopping_mall': 'Metrocity'}\n",
      "{'_id': ObjectId('6554ec04d34996cab1c52a77'), 'invoice_no': 'I163585', 'invoice_date': '11/2/2016 17:09', 'customer_id': 'C136454', 'gender': 'Female', 'age': 20, 'category': 'Clothing', 'quantity': 5, 'selling_price_per_unit': 1500.4, 'cost_price_per_unit': 1425.38, 'payment_method': 'Debit Card', 'region': 'South', 'state': 'Alabama', 'shopping_mall': 'Metrocity'}\n",
      "{'_id': ObjectId('6554ec04d34996cab1c53611'), 'invoice_no': 'I182268', 'invoice_date': '11/3/2016 4:42', 'customer_id': 'C265066', 'gender': 'Male', 'age': 19, 'category': 'Clothing', 'quantity': 5, 'selling_price_per_unit': 1500.4, 'cost_price_per_unit': 1425.38, 'payment_method': 'Debit Card', 'region': 'East', 'state': 'Delaware', 'shopping_mall': 'Metrocity'}\n",
      "{'_id': ObjectId('6554ec04d34996cab1c537ba'), 'invoice_no': 'I110722', 'invoice_date': '11/3/2016 6:21', 'customer_id': 'C229836', 'gender': 'Female', 'age': 18, 'category': 'Books', 'quantity': 5, 'selling_price_per_unit': 75.75, 'cost_price_per_unit': 56.8125, 'payment_method': 'Debit Card', 'region': 'Central', 'state': 'Illinois', 'shopping_mall': 'Metrocity'}\n",
      "{'_id': ObjectId('6554ec04d34996cab1c55bf3'), 'invoice_no': 'I244994', 'invoice_date': '11/4/2016 18:25', 'customer_id': 'C299507', 'gender': 'Female', 'age': 18, 'category': 'Books', 'quantity': 5, 'selling_price_per_unit': 75.75, 'cost_price_per_unit': 56.8125, 'payment_method': 'Debit Card', 'region': 'West', 'state': 'California', 'shopping_mall': 'Metrocity'}\n",
      "{'_id': ObjectId('6554ec04d34996cab1c566ba'), 'invoice_no': 'I797734', 'invoice_date': '11/5/2016 5:09', 'customer_id': 'C274783', 'gender': 'Female', 'age': 18, 'category': 'Souvenir', 'quantity': 5, 'selling_price_per_unit': 58.65, 'cost_price_per_unit': 43.9875, 'payment_method': 'Debit Card', 'region': 'South', 'state': 'Virginia', 'shopping_mall': 'Metrocity'}\n",
      "{'_id': ObjectId('6554ec04d34996cab1c56ee0'), 'invoice_no': 'I696146', 'invoice_date': '11/5/2016 13:15', 'customer_id': 'C277382', 'gender': 'Female', 'age': 19, 'category': 'Toys', 'quantity': 5, 'selling_price_per_unit': 179.2, 'cost_price_per_unit': 143.36, 'payment_method': 'Debit Card', 'region': 'West', 'state': 'Arizona', 'shopping_mall': 'Metrocity'}\n",
      "{'_id': ObjectId('6554ec04d34996cab1c56ee4'), 'invoice_no': 'I173910', 'invoice_date': '11/5/2016 13:16', 'customer_id': 'C226969', 'gender': 'Female', 'age': 20, 'category': 'Toys', 'quantity': 5, 'selling_price_per_unit': 179.2, 'cost_price_per_unit': 143.36, 'payment_method': 'Debit Card', 'region': 'Central', 'state': 'Iowa', 'shopping_mall': 'Metrocity'}\n",
      "{'_id': ObjectId('6554ec04d34996cab1c5825f'), 'invoice_no': 'I219754', 'invoice_date': '11/6/2016 8:40', 'customer_id': 'C210853', 'gender': 'Female', 'age': 20, 'category': 'Toys', 'quantity': 5, 'selling_price_per_unit': 179.2, 'cost_price_per_unit': 143.36, 'payment_method': 'Debit Card', 'region': 'West', 'state': 'Oregon', 'shopping_mall': 'Metrocity'}\n",
      "{'_id': ObjectId('6554ec04d34996cab1c584e2'), 'invoice_no': 'I185114', 'invoice_date': '11/6/2016 11:10', 'customer_id': 'C262752', 'gender': 'Male', 'age': 20, 'category': 'Clothing', 'quantity': 5, 'selling_price_per_unit': 1500.4, 'cost_price_per_unit': 1425.38, 'payment_method': 'Debit Card', 'region': 'West', 'state': 'California', 'shopping_mall': 'Metrocity'}\n",
      "{'_id': ObjectId('6554ec04d34996cab1c58511'), 'invoice_no': 'I101529', 'invoice_date': '11/6/2016 11:21', 'customer_id': 'C203227', 'gender': 'Female', 'age': 20, 'category': 'Toys', 'quantity': 5, 'selling_price_per_unit': 179.2, 'cost_price_per_unit': 143.36, 'payment_method': 'Debit Card', 'region': 'Central', 'state': 'Illinois', 'shopping_mall': 'Metrocity'}\n",
      "{'_id': ObjectId('6554ec04d34996cab1c589a3'), 'invoice_no': 'I195468', 'invoice_date': '11/6/2016 15:54', 'customer_id': 'C306831', 'gender': 'Female', 'age': 19, 'category': 'Clothing', 'quantity': 5, 'selling_price_per_unit': 1500.4, 'cost_price_per_unit': 1425.38, 'payment_method': 'Debit Card', 'region': 'East', 'state': 'New York', 'shopping_mall': 'Metrocity'}\n",
      "{'_id': ObjectId('6554ec04d34996cab1c592c5'), 'invoice_no': 'I152375', 'invoice_date': '11/7/2016 1:00', 'customer_id': 'C648581', 'gender': 'Female', 'age': 20, 'category': 'Food & Beverage', 'quantity': 5, 'selling_price_per_unit': 26.15, 'cost_price_per_unit': 19.6125, 'payment_method': 'Debit Card', 'region': 'West', 'state': 'Arizona', 'shopping_mall': 'Metrocity'}\n",
      "{'_id': ObjectId('6554ec04d34996cab1c59f78'), 'invoice_no': 'I151974', 'invoice_date': '11/7/2016 13:38', 'customer_id': 'C313292', 'gender': 'Male', 'age': 19, 'category': 'Cosmetics', 'quantity': 5, 'selling_price_per_unit': 203.3, 'cost_price_per_unit': 162.64, 'payment_method': 'Debit Card', 'region': 'West', 'state': 'California', 'shopping_mall': 'Metrocity'}\n",
      "{'_id': ObjectId('6554ec04d34996cab1c5a620'), 'invoice_no': 'I141724', 'invoice_date': '11/7/2016 20:16', 'customer_id': 'C878063', 'gender': 'Male', 'age': 19, 'category': 'Clothing', 'quantity': 5, 'selling_price_per_unit': 1500.4, 'cost_price_per_unit': 1425.38, 'payment_method': 'Debit Card', 'region': 'West', 'state': 'Idaho', 'shopping_mall': 'Metrocity'}\n",
      "{'_id': ObjectId('6554ec04d34996cab1c5a9e9'), 'invoice_no': 'I143136', 'invoice_date': '11/8/2016 0:02', 'customer_id': 'C170679', 'gender': 'Female', 'age': 20, 'category': 'Clothing', 'quantity': 5, 'selling_price_per_unit': 1500.4, 'cost_price_per_unit': 1425.38, 'payment_method': 'Debit Card', 'region': 'East', 'state': 'Delaware', 'shopping_mall': 'Metrocity'}\n",
      "{'_id': ObjectId('6554ec04d34996cab1c5b41d'), 'invoice_no': 'I204539', 'invoice_date': '11/8/2016 10:11', 'customer_id': 'C158822', 'gender': 'Male', 'age': 20, 'category': 'Clothing', 'quantity': 5, 'selling_price_per_unit': 1500.4, 'cost_price_per_unit': 1425.38, 'payment_method': 'Debit Card', 'region': 'East', 'state': 'Delaware', 'shopping_mall': 'Metrocity'}\n",
      "{'_id': ObjectId('6554ec04d34996cab1c5b4ef'), 'invoice_no': 'I314684', 'invoice_date': '11/8/2016 11:00', 'customer_id': 'C599263', 'gender': 'Female', 'age': 19, 'category': 'Cosmetics', 'quantity': 5, 'selling_price_per_unit': 203.3, 'cost_price_per_unit': 162.64, 'payment_method': 'Debit Card', 'region': 'East', 'state': 'Pennsylvania', 'shopping_mall': 'Metrocity'}\n",
      "{'_id': ObjectId('6554ec04d34996cab1c5bf22'), 'invoice_no': 'I155399', 'invoice_date': '11/8/2016 21:09', 'customer_id': 'C289199', 'gender': 'Female', 'age': 19, 'category': 'Clothing', 'quantity': 5, 'selling_price_per_unit': 1500.4, 'cost_price_per_unit': 1425.38, 'payment_method': 'Debit Card', 'region': 'West', 'state': 'California', 'shopping_mall': 'Metrocity'}\n",
      "{'_id': ObjectId('6554ec04d34996cab1c5d419'), 'invoice_no': 'I106408', 'invoice_date': '11/9/2016 18:02', 'customer_id': 'C136791', 'gender': 'Female', 'age': 18, 'category': 'Food & Beverage', 'quantity': 5, 'selling_price_per_unit': 26.15, 'cost_price_per_unit': 19.6125, 'payment_method': 'Debit Card', 'region': 'West', 'state': 'California', 'shopping_mall': 'Metrocity'}\n",
      "{'_id': ObjectId('6554ec04d34996cab1c5eca5'), 'invoice_no': 'I140578', 'invoice_date': '11/10/2016 18:28', 'customer_id': 'C243522', 'gender': 'Female', 'age': 18, 'category': 'Clothing', 'quantity': 5, 'selling_price_per_unit': 1500.4, 'cost_price_per_unit': 1425.38, 'payment_method': 'Debit Card', 'region': 'Central', 'state': 'Texas', 'shopping_mall': 'Metrocity'}\n",
      "{'_id': ObjectId('6554ec04d34996cab1c5eed3'), 'invoice_no': 'I883284', 'invoice_date': '11/10/2016 20:38', 'customer_id': 'C254794', 'gender': 'Male', 'age': 20, 'category': 'Clothing', 'quantity': 5, 'selling_price_per_unit': 1500.4, 'cost_price_per_unit': 1425.38, 'payment_method': 'Debit Card', 'region': 'East', 'state': 'Massachusetts', 'shopping_mall': 'Metrocity'}\n",
      "{'_id': ObjectId('6554ec04d34996cab1c5f7f8'), 'invoice_no': 'I321203', 'invoice_date': '11/11/2016 5:44', 'customer_id': 'C233124', 'gender': 'Female', 'age': 19, 'category': 'Shoes', 'quantity': 5, 'selling_price_per_unit': 3000.85, 'cost_price_per_unit': 2700.765, 'payment_method': 'Debit Card', 'region': 'Central', 'state': 'Indiana', 'shopping_mall': 'Metrocity'}\n",
      "{'_id': ObjectId('6554ec04d34996cab1c5fb22'), 'invoice_no': 'I125736', 'invoice_date': '11/11/2016 8:53', 'customer_id': 'C295277', 'gender': 'Male', 'age': 18, 'category': 'Souvenir', 'quantity': 5, 'selling_price_per_unit': 58.65, 'cost_price_per_unit': 43.9875, 'payment_method': 'Debit Card', 'region': 'East', 'state': 'Delaware', 'shopping_mall': 'Metrocity'}\n",
      "{'_id': ObjectId('6554ec04d34996cab1c5fcb4'), 'invoice_no': 'I362859', 'invoice_date': '11/11/2016 10:27', 'customer_id': 'C181707', 'gender': 'Female', 'age': 20, 'category': 'Food & Beverage', 'quantity': 5, 'selling_price_per_unit': 26.15, 'cost_price_per_unit': 19.6125, 'payment_method': 'Debit Card', 'region': 'East', 'state': 'New York', 'shopping_mall': 'Metrocity'}\n",
      "{'_id': ObjectId('6554ec04d34996cab1c60160'), 'invoice_no': 'I328451', 'invoice_date': '11/11/2016 15:06', 'customer_id': 'C345642', 'gender': 'Female', 'age': 18, 'category': 'Clothing', 'quantity': 5, 'selling_price_per_unit': 1500.4, 'cost_price_per_unit': 1425.38, 'payment_method': 'Debit Card', 'region': 'East', 'state': 'Delaware', 'shopping_mall': 'Metrocity'}\n",
      "{'_id': ObjectId('6554ec04d34996cab1c611f7'), 'invoice_no': 'I164382', 'invoice_date': '11/12/2016 7:37', 'customer_id': 'C256911', 'gender': 'Male', 'age': 19, 'category': 'Books', 'quantity': 5, 'selling_price_per_unit': 75.75, 'cost_price_per_unit': 56.8125, 'payment_method': 'Debit Card', 'region': 'East', 'state': 'New York', 'shopping_mall': 'Metrocity'}\n",
      "{'_id': ObjectId('6554ec04d34996cab1c61255'), 'invoice_no': 'I308506', 'invoice_date': '11/12/2016 7:59', 'customer_id': 'C747027', 'gender': 'Female', 'age': 20, 'category': 'Clothing', 'quantity': 5, 'selling_price_per_unit': 1500.4, 'cost_price_per_unit': 1425.38, 'payment_method': 'Debit Card', 'region': 'East', 'state': 'Ohio', 'shopping_mall': 'Metrocity'}\n",
      "{'_id': ObjectId('6554ec04d34996cab1c61ca9'), 'invoice_no': 'I215088', 'invoice_date': '11/12/2016 18:16', 'customer_id': 'C241191', 'gender': 'Male', 'age': 20, 'category': 'Clothing', 'quantity': 5, 'selling_price_per_unit': 1500.4, 'cost_price_per_unit': 1425.38, 'payment_method': 'Debit Card', 'region': 'South', 'state': 'North Carolina', 'shopping_mall': 'Metrocity'}\n",
      "{'_id': ObjectId('6554ec04d34996cab1c62278'), 'invoice_no': 'I193570', 'invoice_date': '11/13/2016 0:03', 'customer_id': 'C111541', 'gender': 'Female', 'age': 20, 'category': 'Shoes', 'quantity': 5, 'selling_price_per_unit': 3000.85, 'cost_price_per_unit': 2700.765, 'payment_method': 'Debit Card', 'region': 'West', 'state': 'Idaho', 'shopping_mall': 'Metrocity'}\n",
      "{'_id': ObjectId('6554ec04d34996cab1c6311d'), 'invoice_no': 'I789648', 'invoice_date': '11/13/2016 14:38', 'customer_id': 'C303543', 'gender': 'Male', 'age': 19, 'category': 'Clothing', 'quantity': 5, 'selling_price_per_unit': 1500.4, 'cost_price_per_unit': 1425.38, 'payment_method': 'Debit Card', 'region': 'East', 'state': 'Massachusetts', 'shopping_mall': 'Metrocity'}\n",
      "{'_id': ObjectId('6554ec04d34996cab1c63569'), 'invoice_no': 'I713168', 'invoice_date': '11/13/2016 18:55', 'customer_id': 'C256930', 'gender': 'Female', 'age': 20, 'category': 'Clothing', 'quantity': 5, 'selling_price_per_unit': 1500.4, 'cost_price_per_unit': 1425.38, 'payment_method': 'Debit Card', 'region': 'West', 'state': 'Colorado', 'shopping_mall': 'Metrocity'}\n",
      "{'_id': ObjectId('6554ec04d34996cab1c64bb4'), 'invoice_no': 'I214422', 'invoice_date': '11/14/2016 17:06', 'customer_id': 'C114608', 'gender': 'Female', 'age': 18, 'category': 'Shoes', 'quantity': 5, 'selling_price_per_unit': 3000.85, 'cost_price_per_unit': 2700.765, 'payment_method': 'Debit Card', 'region': 'East', 'state': 'Ohio', 'shopping_mall': 'Metrocity'}\n",
      "{'_id': ObjectId('6554ec04d34996cab1c65536'), 'invoice_no': 'I140551', 'invoice_date': '11/15/2016 2:34', 'customer_id': 'C253614', 'gender': 'Female', 'age': 20, 'category': 'Clothing', 'quantity': 5, 'selling_price_per_unit': 1500.4, 'cost_price_per_unit': 1425.38, 'payment_method': 'Debit Card', 'region': 'South', 'state': 'North Carolina', 'shopping_mall': 'Metrocity'}\n"
     ]
    }
   ],
   "source": [
    "results = collection.find({'shopping_mall': 'Metrocity', 'age': {'$gte': 18, '$lte': 20}, 'payment_method': 'Debit Card', 'quantity': {'$gte': 5}}) \n",
    "for stores in results:\n",
    "    print(stores)"
   ]
  },
  {
   "cell_type": "markdown",
   "id": "63ccc972-3d12-476b-b0ba-88ee9528eab5",
   "metadata": {},
   "source": [
    "**Task 6**: Find the `total quantity` sold for each category where the `payment_method` is `Cash`."
   ]
  },
  {
   "cell_type": "code",
   "execution_count": 4,
   "id": "64537b78-f95e-4543-b01e-f6018994df67",
   "metadata": {
    "tags": []
   },
   "outputs": [
    {
     "name": "stdout",
     "output_type": "stream",
     "text": [
      "{'_id': {'category': 'Toys'}, 'quantity': 13745}\n",
      "{'_id': {'category': 'Technology'}, 'quantity': 6720}\n",
      "{'_id': {'category': 'Books'}, 'quantity': 6831}\n",
      "{'_id': {'category': 'Food & Beverage'}, 'quantity': 19623}\n",
      "{'_id': {'category': 'Souvenir'}, 'quantity': 6486}\n",
      "{'_id': {'category': 'Cosmetics'}, 'quantity': 19953}\n",
      "{'_id': {'category': 'Shoes'}, 'quantity': 13492}\n",
      "{'_id': {'category': 'Clothing'}, 'quantity': 46559}\n"
     ]
    }
   ],
   "source": [
    "match_stage = {'$match': {'payment_method': 'Cash'}}\n",
    "group_stage = {'$group': {'_id': {'category': '$category'}, 'quantity': {'$sum': '$quantity'}}}\n",
    "results = collection.aggregate([match_stage, group_stage])\n",
    "\n",
    "for record in results:\n",
    "    print(record)"
   ]
  },
  {
   "cell_type": "markdown",
   "id": "45ba9382-5166-4c79-a0f4-f7b40c60e4b1",
   "metadata": {},
   "source": [
    "**Task 7**: List `last 10` transactions `sorted` by `cost_price_per_unit` in `descending order`."
   ]
  },
  {
   "cell_type": "code",
   "execution_count": 62,
   "id": "257bca6f-a741-465c-bf2a-ede09dcc13f4",
   "metadata": {
    "tags": []
   },
   "outputs": [
    {
     "name": "stdout",
     "output_type": "stream",
     "text": [
      "{'_id': ObjectId('6554ec04d34996cab1c65e2f'), 'invoice_no': 'I240802', 'invoice_date': '11/15/2016 11:30', 'customer_id': 'C327326', 'gender': 'Male', 'age': 48, 'category': 'Food & Beverage', 'quantity': 1, 'selling_price_per_unit': 5.23, 'cost_price_per_unit': 3.661, 'payment_method': 'Cash', 'region': 'Central', 'state': 'Indiana', 'shopping_mall': 'Istinye Park'}\n",
      "{'_id': ObjectId('6554ec04d34996cab1c65e5b'), 'invoice_no': 'I160755', 'invoice_date': '11/15/2016 11:40', 'customer_id': 'C216948', 'gender': 'Male', 'age': 67, 'category': 'Food & Beverage', 'quantity': 1, 'selling_price_per_unit': 5.23, 'cost_price_per_unit': 3.661, 'payment_method': 'Cash', 'region': 'South', 'state': 'North Carolina', 'shopping_mall': 'Zorlu Center'}\n",
      "{'_id': ObjectId('6554ec04d34996cab1c65e62'), 'invoice_no': 'I149977', 'invoice_date': '11/15/2016 11:42', 'customer_id': 'C102584', 'gender': 'Female', 'age': 66, 'category': 'Food & Beverage', 'quantity': 1, 'selling_price_per_unit': 5.23, 'cost_price_per_unit': 3.661, 'payment_method': 'Cash', 'region': 'West', 'state': 'Oregon', 'shopping_mall': 'Mall of Istanbul'}\n",
      "{'_id': ObjectId('6554ec04d34996cab1c65ebe'), 'invoice_no': 'I198902', 'invoice_date': '11/15/2016 12:03', 'customer_id': 'C252011', 'gender': 'Female', 'age': 53, 'category': 'Food & Beverage', 'quantity': 1, 'selling_price_per_unit': 5.23, 'cost_price_per_unit': 3.661, 'payment_method': 'Credit Card', 'region': 'South', 'state': 'Florida', 'shopping_mall': 'Kanyon'}\n",
      "{'_id': ObjectId('6554ec04d34996cab1c65ec3'), 'invoice_no': 'I286563', 'invoice_date': '11/15/2016 12:05', 'customer_id': 'C111487', 'gender': 'Male', 'age': 62, 'category': 'Food & Beverage', 'quantity': 1, 'selling_price_per_unit': 5.23, 'cost_price_per_unit': 3.661, 'payment_method': 'Cash', 'region': 'East', 'state': 'New York', 'shopping_mall': 'Mall of Istanbul'}\n",
      "{'_id': ObjectId('6554ec04d34996cab1c65ecf'), 'invoice_no': 'I711950', 'invoice_date': '11/15/2016 12:07', 'customer_id': 'C212383', 'gender': 'Female', 'age': 20, 'category': 'Food & Beverage', 'quantity': 1, 'selling_price_per_unit': 5.23, 'cost_price_per_unit': 3.661, 'payment_method': 'Debit Card', 'region': 'West', 'state': 'Oregon', 'shopping_mall': 'Istinye Park'}\n",
      "{'_id': ObjectId('6554ec04d34996cab1c65ed0'), 'invoice_no': 'I144439', 'invoice_date': '11/15/2016 12:08', 'customer_id': 'C245356', 'gender': 'Female', 'age': 23, 'category': 'Food & Beverage', 'quantity': 1, 'selling_price_per_unit': 5.23, 'cost_price_per_unit': 3.661, 'payment_method': 'Debit Card', 'region': 'South', 'state': 'Virginia', 'shopping_mall': 'Kanyon'}\n",
      "{'_id': ObjectId('6554ec04d34996cab1c65ee3'), 'invoice_no': 'I881994', 'invoice_date': '11/15/2016 12:12', 'customer_id': 'C168570', 'gender': 'Female', 'age': 59, 'category': 'Food & Beverage', 'quantity': 1, 'selling_price_per_unit': 5.23, 'cost_price_per_unit': 3.661, 'payment_method': 'Cash', 'region': 'South', 'state': 'Florida', 'shopping_mall': 'Istinye Park'}\n",
      "{'_id': ObjectId('6554ec04d34996cab1c65ee5'), 'invoice_no': 'I234667', 'invoice_date': '11/15/2016 12:13', 'customer_id': 'C321665', 'gender': 'Male', 'age': 69, 'category': 'Food & Beverage', 'quantity': 1, 'selling_price_per_unit': 5.23, 'cost_price_per_unit': 3.661, 'payment_method': 'Debit Card', 'region': 'East', 'state': 'Ohio', 'shopping_mall': 'Metropol AVM'}\n",
      "{'_id': ObjectId('6554ec04d34996cab1c65f62'), 'invoice_no': 'I327966', 'invoice_date': '11/15/2016 12:42', 'customer_id': 'C107209', 'gender': 'Female', 'age': 32, 'category': 'Food & Beverage', 'quantity': 1, 'selling_price_per_unit': 5.23, 'cost_price_per_unit': 3.661, 'payment_method': 'Cash', 'region': 'Central', 'state': 'Illinois', 'shopping_mall': 'Metropol AVM'}\n"
     ]
    }
   ],
   "source": [
    "sort_stage = {'$sort': {'cost_price_per_unit': -1}}\n",
    "skip_stage = {'$skip': 99457 - 10}\n",
    "results = collection.aggregate([sort_stage, skip_stage])\n",
    "\n",
    "for record in results:\n",
    "    print(record)"
   ]
  },
  {
   "cell_type": "markdown",
   "id": "66b78976-35b5-4a19-a045-8406ea42edce",
   "metadata": {},
   "source": [
    "**Task 8**: Retrieve the second set of `10` transactions when `sorted` by `selling_price_per_unit` in `ascending` order."
   ]
  },
  {
   "cell_type": "code",
   "execution_count": 6,
   "id": "7d144f9a-b498-4fdc-9617-638c1be19e84",
   "metadata": {
    "tags": []
   },
   "outputs": [
    {
     "name": "stdout",
     "output_type": "stream",
     "text": [
      "{'_id': ObjectId('6554ec04d34996cab1c4dc7a'), 'invoice_no': 'I306136', 'invoice_date': '10/30/2016 11:31', 'customer_id': 'C324783', 'gender': 'Male', 'age': 26, 'category': 'Food & Beverage', 'quantity': 1, 'selling_price_per_unit': 5.23, 'cost_price_per_unit': 3.661, 'payment_method': 'Cash', 'region': 'Central', 'state': 'Texas', 'shopping_mall': 'Metrocity'}\n",
      "{'_id': ObjectId('6554ec04d34996cab1c4db01'), 'invoice_no': 'I412481', 'invoice_date': '10/30/2016 10:03', 'customer_id': 'C125696', 'gender': 'Female', 'age': 27, 'category': 'Food & Beverage', 'quantity': 1, 'selling_price_per_unit': 5.23, 'cost_price_per_unit': 3.661, 'payment_method': 'Cash', 'region': 'Central', 'state': 'Iowa', 'shopping_mall': 'Istinye Park'}\n",
      "{'_id': ObjectId('6554ec04d34996cab1c4dc7b'), 'invoice_no': 'I240224', 'invoice_date': '10/30/2016 11:31', 'customer_id': 'C281502', 'gender': 'Male', 'age': 53, 'category': 'Food & Beverage', 'quantity': 1, 'selling_price_per_unit': 5.23, 'cost_price_per_unit': 3.661, 'payment_method': 'Cash', 'region': 'Central', 'state': 'Texas', 'shopping_mall': 'Mall of Istanbul'}\n",
      "{'_id': ObjectId('6554ec04d34996cab1c4dbc7'), 'invoice_no': 'I291540', 'invoice_date': '10/30/2016 10:49', 'customer_id': 'C557245', 'gender': 'Male', 'age': 25, 'category': 'Food & Beverage', 'quantity': 1, 'selling_price_per_unit': 5.23, 'cost_price_per_unit': 3.661, 'payment_method': 'Debit Card', 'region': 'East', 'state': 'Ohio', 'shopping_mall': 'Kanyon'}\n",
      "{'_id': ObjectId('6554ec04d34996cab1c4dca3'), 'invoice_no': 'I269945', 'invoice_date': '10/30/2016 11:40', 'customer_id': 'C310975', 'gender': 'Male', 'age': 64, 'category': 'Food & Beverage', 'quantity': 1, 'selling_price_per_unit': 5.23, 'cost_price_per_unit': 3.661, 'payment_method': 'Credit Card', 'region': 'East', 'state': 'New York', 'shopping_mall': 'Kanyon'}\n",
      "{'_id': ObjectId('6554ec04d34996cab1c4dd3c'), 'invoice_no': 'I282321', 'invoice_date': '10/30/2016 12:16', 'customer_id': 'C720642', 'gender': 'Female', 'age': 27, 'category': 'Food & Beverage', 'quantity': 1, 'selling_price_per_unit': 5.23, 'cost_price_per_unit': 3.661, 'payment_method': 'Cash', 'region': 'Central', 'state': 'Texas', 'shopping_mall': 'Kanyon'}\n",
      "{'_id': ObjectId('6554ec04d34996cab1c4dd09'), 'invoice_no': 'I242648', 'invoice_date': '10/30/2016 12:04', 'customer_id': 'C269986', 'gender': 'Male', 'age': 39, 'category': 'Food & Beverage', 'quantity': 1, 'selling_price_per_unit': 5.23, 'cost_price_per_unit': 3.661, 'payment_method': 'Cash', 'region': 'West', 'state': 'Arizona', 'shopping_mall': 'Metrocity'}\n",
      "{'_id': ObjectId('6554ec04d34996cab1c4dbf7'), 'invoice_no': 'I119809', 'invoice_date': '10/30/2016 11:00', 'customer_id': 'C321889', 'gender': 'Female', 'age': 24, 'category': 'Food & Beverage', 'quantity': 1, 'selling_price_per_unit': 5.23, 'cost_price_per_unit': 3.661, 'payment_method': 'Debit Card', 'region': 'East', 'state': 'Massachusetts', 'shopping_mall': 'Zorlu Center'}\n",
      "{'_id': ObjectId('6554ec04d34996cab1c4dbd4'), 'invoice_no': 'I112291', 'invoice_date': '10/30/2016 10:52', 'customer_id': 'C898405', 'gender': 'Female', 'age': 48, 'category': 'Food & Beverage', 'quantity': 1, 'selling_price_per_unit': 5.23, 'cost_price_per_unit': 3.661, 'payment_method': 'Credit Card', 'region': 'South', 'state': 'Florida', 'shopping_mall': 'Istinye Park'}\n",
      "{'_id': ObjectId('6554ec04d34996cab1c4db44'), 'invoice_no': 'I108359', 'invoice_date': '10/30/2016 10:18', 'customer_id': 'C253905', 'gender': 'Male', 'age': 66, 'category': 'Food & Beverage', 'quantity': 1, 'selling_price_per_unit': 5.23, 'cost_price_per_unit': 3.661, 'payment_method': 'Cash', 'region': 'Central', 'state': 'Texas', 'shopping_mall': 'Zorlu Center'}\n"
     ]
    }
   ],
   "source": [
    "sort_stage = {'$sort': {'selling_price_per_unit': 1}}\n",
    "skip_stage = {'$skip': 10}\n",
    "limit_stage = {'$limit': 10}\n",
    "results = collection.aggregate([sort_stage, skip_stage, limit_stage])\n",
    "\n",
    "for record in results:\n",
    "    print(record)"
   ]
  },
  {
   "cell_type": "markdown",
   "id": "cc2036c9-0490-4ffa-b791-bef7098be41a",
   "metadata": {},
   "source": [
    "**Task 9**: Calculate the `total revenue` (`quantity` multiplied by `selling_price_per_unit`) for each `category`."
   ]
  },
  {
   "cell_type": "code",
   "execution_count": 84,
   "id": "56301a69-af54-4b40-ad2d-8be994206fdd",
   "metadata": {
    "tags": []
   },
   "outputs": [
    {
     "name": "stdout",
     "output_type": "stream",
     "text": [
      "{'_id': 'Clothing', 'total_revenue': 114014495.76}\n",
      "{'_id': 'Books', 'total_revenue': 834658.9500000001}\n",
      "{'_id': 'Cosmetics', 'total_revenue': 6796684.9399999995}\n",
      "{'_id': 'Technology', 'total_revenue': 57900150.0}\n",
      "{'_id': 'Souvenir', 'total_revenue': 635824.65}\n",
      "{'_id': 'Food & Beverage', 'total_revenue': 849555.97}\n",
      "{'_id': 'Toys', 'total_revenue': 3980426.24}\n",
      "{'_id': 'Shoes', 'total_revenue': 66553451.47}\n"
     ]
    }
   ],
   "source": [
    "group_stage = {'$group': {'_id': '$category', 'total_revenue': {'$sum': {'$multiply': ['$quantity', '$selling_price_per_unit']}}}}\n",
    "\n",
    "results = collection.aggregate([group_stage])\n",
    "\n",
    "for record in results:\n",
    "    print(record)"
   ]
  },
  {
   "cell_type": "markdown",
   "id": "c024688d-8c8b-400f-8ab3-48a700a6dcc2",
   "metadata": {},
   "source": [
    "**Task 10**: Find the total `quantity` sold for each `category` where the `payment_method` is `Cash`."
   ]
  },
  {
   "cell_type": "code",
   "execution_count": null,
   "id": "d1128847-6b47-43c3-bdea-1ae1fbf02c71",
   "metadata": {
    "tags": []
   },
   "outputs": [],
   "source": []
  },
  {
   "cell_type": "markdown",
   "id": "d8b07d17-b09e-4b10-9fc8-7b2bdebfeff5",
   "metadata": {},
   "source": [
    "**Task 11**: Project a new field `profit_per_unit` which is the difference between `selling_price_per_unit` and `cost_price_per_unit`. Show the first `10` results. "
   ]
  },
  {
   "cell_type": "code",
   "execution_count": 9,
   "id": "908af727-fe23-48c8-9d03-56f4e39d57e1",
   "metadata": {
    "tags": []
   },
   "outputs": [
    {
     "name": "stdout",
     "output_type": "stream",
     "text": [
      "{'_id': ObjectId('6554ec04d34996cab1c4daec'), 'profit_per_unit': 75.01999999999998}\n",
      "{'_id': ObjectId('6554ec04d34996cab1c4daed'), 'profit_per_unit': 180.05099999999993}\n",
      "{'_id': ObjectId('6554ec04d34996cab1c4daee'), 'profit_per_unit': 5.019999999999982}\n",
      "{'_id': ObjectId('6554ec04d34996cab1c4daef'), 'profit_per_unit': 100.08500000000004}\n",
      "{'_id': ObjectId('6554ec04d34996cab1c4daf0'), 'profit_per_unit': 15.149999999999999}\n",
      "{'_id': ObjectId('6554ec04d34996cab1c4daf1'), 'profit_per_unit': 25.019999999999982}\n",
      "{'_id': ObjectId('6554ec04d34996cab1c4daf2'), 'profit_per_unit': 5.197999999999993}\n",
      "{'_id': ObjectId('6554ec04d34996cab1c4daf3'), 'profit_per_unit': 150.03999999999996}\n",
      "{'_id': ObjectId('6554ec04d34996cab1c4daf4'), 'profit_per_unit': 225.06000000000006}\n",
      "{'_id': ObjectId('6554ec04d34996cab1c4daf5'), 'profit_per_unit': 150.03999999999996}\n"
     ]
    }
   ],
   "source": [
    "project_stage = {'$project': {'profit_per_unit': {'$subtract': ['$selling_price_per_unit', '$cost_price_per_unit']}}}\n",
    "limit_stage = {'$limit': 10}\n",
    "results = collection.aggregate([project_stage, limit_stage])\n",
    "\n",
    "for record in results:\n",
    "    print(record)"
   ]
  },
  {
   "cell_type": "markdown",
   "id": "4f7f32dc-f3f0-4ae2-ab3a-556ef2199979",
   "metadata": {},
   "source": [
    "**Task 12**: Adjust the output of the previous task to show the profit per unit rounded to two decimal places."
   ]
  },
  {
   "cell_type": "code",
   "execution_count": 11,
   "id": "3ce6eab2-fb01-40f6-af24-e9b3dc517ee9",
   "metadata": {
    "tags": []
   },
   "outputs": [
    {
     "name": "stdout",
     "output_type": "stream",
     "text": [
      "75.02\n",
      "\n",
      "180.05\n",
      "\n",
      "5.02\n",
      "\n",
      "100.09\n",
      "\n",
      "15.15\n",
      "\n",
      "25.02\n",
      "\n",
      "5.20\n",
      "\n",
      "150.04\n",
      "\n",
      "225.06\n",
      "\n",
      "150.04\n",
      "\n"
     ]
    }
   ],
   "source": [
    "project_stage = {'$project': {'profit_per_unit': {'$subtract': ['$selling_price_per_unit', '$cost_price_per_unit']}}}\n",
    "limit_stage = {'$limit': 10}\n",
    "results = collection.aggregate([project_stage, limit_stage])\n",
    "\n",
    "for record in results:\n",
    "    # print(record)\n",
    "    print(f\"{record['profit_per_unit']:.2f}\")\n",
    "    print()"
   ]
  },
  {
   "cell_type": "markdown",
   "id": "20957f20-4871-446b-857c-6f7c1ed54f5d",
   "metadata": {},
   "source": [
    "**Task 13**: Increase the `quantity` field by 2 for the document with `invoice_no` `I246550`. Verify the update has been successful by displaying the quantity value both `before` and `after` the update."
   ]
  },
  {
   "cell_type": "code",
   "execution_count": 55,
   "id": "914c1300-38d9-436a-8a65-7508193cd2e3",
   "metadata": {
    "tags": []
   },
   "outputs": [],
   "source": [
    "match_stage = {'$match': {'invoice_no': 'I246550'}}\n",
    "project_stage = {'$project': {'_id': 1}}\n",
    "results = collection.aggregate([match_stage, project_stage])\n",
    "\n",
    "for record in results:\n",
    "    print(f\"Quantity before update: {record}\")\n",
    "\n",
    "results = collection.update_one(\n",
    "    {'invoice_no': 'I246550'},\n",
    "    {'$inc': {'quantity': 2}}\n",
    ")\n",
    "\n",
    "match_stage = {'$match': {'invoice_no': 'I246550'}}\n",
    "project_stage = {'$project': {'_id': 1, 'quantity': 1}}\n",
    "results = collection.aggregate([match_stage, project_stage])\n",
    "\n",
    "for record in results:\n",
    "    print(f\"Quantity after update: {record}\")"
   ]
  },
  {
   "cell_type": "markdown",
   "id": "01fb4a13-ee16-425f-801d-9ac9fc923696",
   "metadata": {},
   "source": [
    "**Task 14**: Remove the `shopping_mall` field from transactions where `shopping_mall` is `Metropol AVM` and show how many documents were modified."
   ]
  },
  {
   "cell_type": "code",
   "execution_count": 9,
   "id": "15c69f11-d64c-434d-a160-55402b6ce314",
   "metadata": {
    "tags": []
   },
   "outputs": [
    {
     "name": "stdout",
     "output_type": "stream",
     "text": [
      "Number of documents modified: 0\n"
     ]
    }
   ],
   "source": [
    "results = collection.update_one(\n",
    "    {'shopping_mall': 'Metropol AVM'},\n",
    "    {'$unset': {'shopping mall': '$shopping_mall'}}\n",
    ")\n",
    "modified_count = results.modified_count\n",
    "print(f\"Number of documents modified: {modified_count}\")"
   ]
  },
  {
   "cell_type": "markdown",
   "id": "0dd31ced-bbc2-4d45-826c-3c841eb8436a",
   "metadata": {},
   "source": [
    "**Task 15**: Set the region to `Midwest` for all transactions in the state of `Illinois` and show how many documents were modified."
   ]
  },
  {
   "cell_type": "code",
   "execution_count": 11,
   "id": "6de054ea-06d9-4ec6-a028-004b6c7998be",
   "metadata": {
    "tags": []
   },
   "outputs": [
    {
     "name": "stdout",
     "output_type": "stream",
     "text": [
      "Number of documents modified: 0\n"
     ]
    }
   ],
   "source": [
    "results = collection.update_many(\n",
    "    {'state': 'Illinois'},\n",
    "    {'$set': {'region': 'Midwest'}}\n",
    ")\n",
    "\n",
    "modified_count = results.modified_count\n",
    "print(f\"Number of documents modified: {modified_count}\")"
   ]
  },
  {
   "cell_type": "markdown",
   "id": "d990233b-08a4-4585-ae44-1e7509db4401",
   "metadata": {},
   "source": [
    "I ran both of these multiple times but I got values before (14. i cant remember), (15. 4000ish)"
   ]
  },
  {
   "cell_type": "markdown",
   "id": "abb18040-b559-44bd-a770-3775336a1aab",
   "metadata": {},
   "source": [
    "**Task 16**: Calculate the average `selling_price_per_unit` and `cost_price_per_unit` for each combination of `state` and `gender`."
   ]
  },
  {
   "cell_type": "code",
   "execution_count": 47,
   "id": "f4211445-5f5a-45af-9ac0-0a048fe8b4a9",
   "metadata": {
    "tags": []
   },
   "outputs": [
    {
     "name": "stdout",
     "output_type": "stream",
     "text": [
      "{'_id': {'state': 'Texas', 'gender': 'Female'}, 'avgsale': 686.100591443668, 'avgbuy': 601.920514061701}\n",
      "{'_id': {'state': 'Virginia', 'gender': 'Male'}, 'avgsale': 752.5251149425287, 'avgbuy': 663.449204597701}\n",
      "{'_id': {'state': 'California', 'gender': 'Male'}, 'avgsale': 690.2322742605086, 'avgbuy': 606.2335923066944}\n",
      "{'_id': {'state': 'Ohio', 'gender': 'Male'}, 'avgsale': 677.1497035040431, 'avgbuy': 591.8828557951482}\n",
      "{'_id': {'state': 'Iowa', 'gender': 'Female'}, 'avgsale': 699.1744453064391, 'avgbuy': 615.5282612490303}\n",
      "{'_id': {'state': 'Michigan', 'gender': 'Female'}, 'avgsale': 702.7237024901704, 'avgbuy': 616.1264452817825}\n",
      "{'_id': {'state': 'Tennessee', 'gender': 'Male'}, 'avgsale': 703.2107956104252, 'avgbuy': 617.6302379972565}\n",
      "{'_id': {'state': 'Delaware', 'gender': 'Male'}, 'avgsale': 630.1513043478261, 'avgbuy': 550.0170745341615}\n",
      "{'_id': {'state': 'Oregon', 'gender': 'Male'}, 'avgsale': 724.4566765140324, 'avgbuy': 638.2365834564255}\n",
      "{'_id': {'state': 'Alabama', 'gender': 'Male'}, 'avgsale': 687.215661971831, 'avgbuy': 603.4239788732394}\n",
      "{'_id': {'state': 'Florida', 'gender': 'Male'}, 'avgsale': 690.436902834008, 'avgbuy': 607.8286292172739}\n",
      "{'_id': {'state': 'New York', 'gender': 'Female'}, 'avgsale': 716.2178130671506, 'avgbuy': 629.2104500907442}\n",
      "{'_id': {'state': 'Washington', 'gender': 'Female'}, 'avgsale': 671.9005076472503, 'avgbuy': 591.1355751708428}\n",
      "{'_id': {'state': 'Pennsylvania', 'gender': 'Male'}, 'avgsale': 662.3473102585489, 'avgbuy': 579.3725112593829}\n",
      "{'_id': {'state': 'New York', 'gender': 'Male'}, 'avgsale': 717.8735468304453, 'avgbuy': 630.4836252467646}\n",
      "{'_id': {'state': 'Idaho', 'gender': 'Male'}, 'avgsale': 671.8188036809815, 'avgbuy': 587.6054003067485}\n",
      "{'_id': {'state': 'Alabama', 'gender': 'Female'}, 'avgsale': 644.8831885936487, 'avgbuy': 566.5521315618925}\n",
      "{'_id': {'state': 'Kentucky', 'gender': 'Female'}, 'avgsale': 694.6631063321386, 'avgbuy': 607.5453219832737}\n",
      "{'_id': {'state': 'Colorado', 'gender': 'Female'}, 'avgsale': 709.6042648401827, 'avgbuy': 623.2556657534246}\n",
      "{'_id': {'state': 'Idaho', 'gender': 'Female'}, 'avgsale': 664.4210727969348, 'avgbuy': 583.8880814176246}\n",
      "{'_id': {'state': 'Florida', 'gender': 'Female'}, 'avgsale': 677.0395058517555, 'avgbuy': 593.0523870827915}\n",
      "{'_id': {'state': 'Pennsylvania', 'gender': 'Female'}, 'avgsale': 715.3465552407931, 'avgbuy': 628.6272651558074}\n",
      "{'_id': {'state': 'Massachusetts', 'gender': 'Male'}, 'avgsale': 730.0851325757576, 'avgbuy': 642.7949204545455}\n",
      "{'_id': {'state': 'Arizona', 'gender': 'Female'}, 'avgsale': 693.9668542568542, 'avgbuy': 610.217604978355}\n",
      "{'_id': {'state': 'Georgia', 'gender': 'Female'}, 'avgsale': 680.4464807692308, 'avgbuy': 596.7602923076923}\n",
      "{'_id': {'state': 'Indiana', 'gender': 'Male'}, 'avgsale': 676.5235576923077, 'avgbuy': 594.502851923077}\n",
      "{'_id': {'state': 'Oregon', 'gender': 'Female'}, 'avgsale': 710.203427495292, 'avgbuy': 625.279556967985}\n",
      "{'_id': {'state': 'Illinois', 'gender': 'Male'}, 'avgsale': 724.6089897435897, 'avgbuy': 638.732616923077}\n",
      "{'_id': {'state': 'Delaware', 'gender': 'Female'}, 'avgsale': 668.0440589473684, 'avgbuy': 586.0024751578948}\n",
      "{'_id': {'state': 'North Carolina', 'gender': 'Female'}, 'avgsale': 708.5501074546677, 'avgbuy': 620.5200399597045}\n",
      "{'_id': {'state': 'Iowa', 'gender': 'Male'}, 'avgsale': 693.9136143250688, 'avgbuy': 609.9516600550965}\n",
      "{'_id': {'state': 'California', 'gender': 'Female'}, 'avgsale': 675.7177835768963, 'avgbuy': 592.3773854384134}\n",
      "{'_id': {'state': 'Tennessee', 'gender': 'Female'}, 'avgsale': 704.3558595859586, 'avgbuy': 619.3769410441045}\n",
      "{'_id': {'state': 'Washington', 'gender': 'Male'}, 'avgsale': 673.4426495304003, 'avgbuy': 592.3043447849728}\n",
      "{'_id': {'state': 'Arizona', 'gender': 'Male'}, 'avgsale': 668.2744808126411, 'avgbuy': 588.9917793453725}\n",
      "{'_id': {'state': 'Michigan', 'gender': 'Male'}, 'avgsale': 650.4103886255924, 'avgbuy': 567.8462981042654}\n",
      "{'_id': {'state': 'Virginia', 'gender': 'Female'}, 'avgsale': 641.3423768736617, 'avgbuy': 562.0388144182728}\n",
      "{'_id': {'state': 'Texas', 'gender': 'Male'}, 'avgsale': 697.6231837553271, 'avgbuy': 612.5191715968915}\n",
      "{'_id': {'state': 'Georgia', 'gender': 'Male'}, 'avgsale': 704.9900395256916, 'avgbuy': 616.59510342556}\n",
      "{'_id': {'state': 'Ohio', 'gender': 'Female'}, 'avgsale': 678.7682482808541, 'avgbuy': 594.7095508505248}\n",
      "{'_id': {'state': 'Kentucky', 'gender': 'Male'}, 'avgsale': 705.385108303249, 'avgbuy': 621.4697048736462}\n",
      "{'_id': {'state': 'Colorado', 'gender': 'Male'}, 'avgsale': 689.2753576248313, 'avgbuy': 604.7671470985156}\n",
      "{'_id': {'state': 'Indiana', 'gender': 'Female'}, 'avgsale': 689.7406470588236, 'avgbuy': 608.5052111764707}\n",
      "{'_id': {'state': 'Illinois', 'gender': 'Female'}, 'avgsale': 684.3520922346559, 'avgbuy': 600.8736915903696}\n",
      "{'_id': {'state': 'North Carolina', 'gender': 'Male'}, 'avgsale': 647.0414090019569, 'avgbuy': 568.3270083170255}\n",
      "{'_id': {'state': 'Massachusetts', 'gender': 'Female'}, 'avgsale': 712.286169250646, 'avgbuy': 627.2389399224807}\n"
     ]
    }
   ],
   "source": [
    "group_stage_with_avg = {'$group': {'_id': {'state': '$state','gender': '$gender'}, 'avgsale': {'$avg': '$selling_price_per_unit'}, 'avgbuy': {'$avg': '$cost_price_per_unit'}}}\n",
    "results = collection.aggregate([group_stage_with_avg])\n",
    "\n",
    "for record in results:\n",
    "    print(record)"
   ]
  },
  {
   "cell_type": "markdown",
   "id": "22668e72-17d3-463f-b3b6-40305bf4e477",
   "metadata": {
    "tags": []
   },
   "source": [
    "**Task 17**: Create a pie chart that illustrates the proportion of different `categories` for the state of `Massachusetts`. You should use a dataframe. "
   ]
  },
  {
   "cell_type": "code",
   "execution_count": 36,
   "id": "75694e04-5c63-456c-9f29-b071761f3c10",
   "metadata": {},
   "outputs": [
    {
     "data": {
      "text/plain": [
       "<function matplotlib.pyplot.show(close=None, block=None)>"
      ]
     },
     "execution_count": 36,
     "metadata": {},
     "output_type": "execute_result"
    },
    {
     "data": {
      "image/png": "[encoded data removed]",
      "text/plain": [
       "<Figure size 800x800 with 1 Axes>"
      ]
     },
     "metadata": {},
     "output_type": "display_data"
    }
   ],
   "source": [
    "import matplotlib.pyplot as plt\n",
    "\n",
    "match_stage = {'$match': {'state': 'Massachusetts'}}\n",
    "group_stage = {'$group': {'_id': '$category', 'quantity': {'$sum': '$quantity'}}}\n",
    "results = collection.aggregate([match_stage, group_stage])\n",
    "    \n",
    "category = []\n",
    "quantity = []\n",
    "for record in results:\n",
    "    category.append(record['_id'])\n",
    "    quantity.append(record['quantity'])\n",
    "    \n",
    "plt.figure(figsize=(8, 8))\n",
    "plt.pie(quantity, labels=category, autopct='%1.1f%%')\n",
    "plt.title('Proportion of Different Categories in Massachusetts')\n",
    "plt.axis('equal')\n",
    "plt.show"
   ]
  },
  {
   "cell_type": "markdown",
   "id": "8c649b00-3918-45a9-a59f-05303f59e101",
   "metadata": {},
   "source": [
    "**Task 18**: Retrieve only the `invoice_no` and `selling_price_per_unit` fields for the `first 20` transactions."
   ]
  },
  {
   "cell_type": "code",
   "execution_count": 48,
   "id": "c8ae0db4-09ad-48fe-87d7-2c8376c13e3e",
   "metadata": {},
   "outputs": [
    {
     "name": "stdout",
     "output_type": "stream",
     "text": [
      "{'_id': ObjectId('6554ec04d34996cab1c4daec'), 'invoice_no': 'I138884', 'selling_price_per_unit': 1500.4}\n",
      "{'_id': ObjectId('6554ec04d34996cab1c4daed'), 'invoice_no': 'I317333', 'selling_price_per_unit': 1800.51}\n",
      "{'_id': ObjectId('6554ec04d34996cab1c4daee'), 'invoice_no': 'I127801', 'selling_price_per_unit': 300.08}\n",
      "{'_id': ObjectId('6554ec04d34996cab1c4daef'), 'invoice_no': 'I173702', 'selling_price_per_unit': 3000.85}\n",
      "{'_id': ObjectId('6554ec04d34996cab1c4daf0'), 'invoice_no': 'I337046', 'selling_price_per_unit': 60.6}\n",
      "{'_id': ObjectId('6554ec04d34996cab1c4daf1'), 'invoice_no': 'I227836', 'selling_price_per_unit': 1500.4}\n",
      "{'_id': ObjectId('6554ec04d34996cab1c4daf2'), 'invoice_no': 'I121056', 'selling_price_per_unit': 40.66}\n",
      "{'_id': ObjectId('6554ec04d34996cab1c4daf3'), 'invoice_no': 'I293112', 'selling_price_per_unit': 600.16}\n",
      "{'_id': ObjectId('6554ec04d34996cab1c4daf4'), 'invoice_no': 'I293455', 'selling_price_per_unit': 900.24}\n",
      "{'_id': ObjectId('6554ec04d34996cab1c4daf5'), 'invoice_no': 'I326945', 'selling_price_per_unit': 600.16}\n",
      "{'_id': ObjectId('6554ec04d34996cab1c4daf6'), 'invoice_no': 'I306368', 'selling_price_per_unit': 10.46}\n",
      "{'_id': ObjectId('6554ec04d34996cab1c4daf7'), 'invoice_no': 'I139207', 'selling_price_per_unit': 15.15}\n",
      "{'_id': ObjectId('6554ec04d34996cab1c4daf8'), 'invoice_no': 'I640508', 'selling_price_per_unit': 143.36}\n",
      "{'_id': ObjectId('6554ec04d34996cab1c4daf9'), 'invoice_no': 'I179802', 'selling_price_per_unit': 600.16}\n",
      "{'_id': ObjectId('6554ec04d34996cab1c4dafa'), 'invoice_no': 'I336189', 'selling_price_per_unit': 600.16}\n",
      "{'_id': ObjectId('6554ec04d34996cab1c4dafb'), 'invoice_no': 'I688768', 'selling_price_per_unit': 3000.85}\n",
      "{'_id': ObjectId('6554ec04d34996cab1c4dafc'), 'invoice_no': 'I294687', 'selling_price_per_unit': 30.3}\n",
      "{'_id': ObjectId('6554ec04d34996cab1c4dafd'), 'invoice_no': 'I195744', 'selling_price_per_unit': 15.69}\n",
      "{'_id': ObjectId('6554ec04d34996cab1c4dafe'), 'invoice_no': 'I993048', 'selling_price_per_unit': 600.16}\n",
      "{'_id': ObjectId('6554ec04d34996cab1c4daff'), 'invoice_no': 'I992454', 'selling_price_per_unit': 143.36}\n"
     ]
    }
   ],
   "source": [
    "project_stage = {'$project': {'invoice_no': 1, 'selling_price_per_unit': 1}}\n",
    "limit_stage = {'$limit': 20}\n",
    "\n",
    "results = collection.aggregate([project_stage, limit_stage])\n",
    "\n",
    "for record in results:\n",
    "    print(record)"
   ]
  },
  {
   "cell_type": "markdown",
   "id": "d04fc091-0343-4f89-89f6-0dafd9189c04",
   "metadata": {},
   "source": [
    "**Task 19**: Identify the `highest` and `lowest` cash payment amounts recorded in a single transaction."
   ]
  },
  {
   "cell_type": "code",
   "execution_count": 19,
   "id": "42549073-ddc8-4166-af49-f04bb0666134",
   "metadata": {},
   "outputs": [
    {
     "name": "stdout",
     "output_type": "stream",
     "text": [
      "{'_id': {'payment_method': 'Cash'}, 'maxpayment': 47250.0, 'minpayment': 5.23}\n"
     ]
    }
   ],
   "source": [
    "group_stage_with_max_min = {'$group': {'_id': {'payment_method': 'Cash'}, 'maxpayment': {'$max': {'$multiply': ['$quantity', '$selling_price_per_unit']}}, 'minpayment': {'$min': {'$multiply': ['$quantity', '$selling_price_per_unit']}}}}\n",
    "results = collection.aggregate([group_stage_with_max_min])\n",
    "\n",
    "for record in results:\n",
    "    print(record)"
   ]
  },
  {
   "cell_type": "markdown",
   "id": "9b472663-a489-42b1-84e9-075905c7583e",
   "metadata": {
    "tags": []
   },
   "source": [
    "**Task 20**: Delete the first `10` transactions."
   ]
  },
  {
   "cell_type": "code",
   "execution_count": 27,
   "id": "0e0f8bd1-0c70-43b8-bab1-59ccb13216cc",
   "metadata": {},
   "outputs": [
    {
     "name": "stdout",
     "output_type": "stream",
     "text": [
      "Deleted 10 records.\n"
     ]
    }
   ],
   "source": [
    "project_stage = {'$project': {'_id': 1}}\n",
    "limit_stage = {'$limit': 10}\n",
    "\n",
    "results = collection.aggregate([project_stage, limit_stage])\n",
    "\n",
    "rec_del = [record['_id'] for record in results]\n",
    "\n",
    "del_results = collection.delete_many({'_id': {'$in': rec_del}})\n",
    "\n",
    "print(f\"Deleted {del_results.deleted_count} records.\")\n",
    "\n",
    "for record in results:\n",
    "    print(record)"
   ]
  },
  {
   "cell_type": "code",
   "execution_count": null,
   "id": "6b718cc7-ba56-4ee5-969a-322d71089a2a",
   "metadata": {},
   "outputs": [],
   "source": []
  }
 ],
 "metadata": {
  "kernelspec": {
   "display_name": "Python 3 (ipykernel)",
   "language": "python",
   "name": "python3"
  },
  "language_info": {
   "codemirror_mode": {
    "name": "ipython",
    "version": 3
   },
   "file_extension": ".py",
   "mimetype": "text/x-python",
   "name": "python",
   "nbconvert_exporter": "python",
   "pygments_lexer": "ipython3",
   "version": "3.11.5"
  }
 },
 "nbformat": 4,
 "nbformat_minor": 5
}
