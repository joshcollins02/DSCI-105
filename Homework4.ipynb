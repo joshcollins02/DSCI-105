{
 "cells": [
  {
   "cell_type": "markdown",
   "id": "be4c8ff2-00bc-4726-ba23-00ab99662ff0",
   "metadata": {
    "tags": []
   },
   "source": [
    "# Homework 4 - Time Series Analysis"
   ]
  },
  {
   "cell_type": "markdown",
   "id": "7c535d95-cfb7-41a0-83af-1b65e4142cc0",
   "metadata": {},
   "source": [
    "**Dataset**: You will be working with a dataset containing historical stock price data for **Apple (AAPL)**. However, instead of providing the dataset directly, you will retrieve the data from a financial API.<br>\n",
    "**Objective**: To apply your knowledge of time series analysis using Pandas by working on real-world data.\n",
    "\n",
    "The `dataset` includes the following columns: \n",
    "* `timestamp`: The date of the stock price. \n",
    "* `open`: The opening price of the stock on that date. \n",
    "* `high`: The highest price of the stock during the day. \n",
    "* `low`: The lowest price of the stock during the day. \n",
    "* `close`: The closing price of the stock on that date. \n",
    "* `volume`: The trading volume of the stock on that date.\n",
    "\n",
    "\n",
    "**API**: https://www.alphavantage.co/query <br>\n",
    "**API Parameters**:\n",
    "* function: TIME_SERIES_DAILY\n",
    "* outputsize: full \n",
    "* datatype: csv<br>\n",
    "\n",
    "**Sign up for an API key**: https://www.alphavantage.co/support/#api-key<br>\n",
    "**Documentation**: https://www.alphavantage.co/documentation/#daily\n"
   ]
  },
  {
   "cell_type": "code",
   "execution_count": 2,
   "id": "0c5e6763-30ca-49f9-84cf-e9c31ae58d58",
   "metadata": {
    "tags": []
   },
   "outputs": [],
   "source": [
    "import io\n",
    "import requests\n",
    "import pandas as pd"
   ]
  },
  {
   "cell_type": "markdown",
   "id": "c3970211-53c9-4e3b-8ba9-511fa19b035e",
   "metadata": {},
   "source": [
    "#### Task 1: Make an API request and retrieve historical stock price data for Apple (AAPL)."
   ]
  },
  {
   "cell_type": "code",
   "execution_count": 3,
   "id": "6bb84734-181b-4c88-8c99-a1497157cd79",
   "metadata": {
    "tags": []
   },
   "outputs": [],
   "source": [
    "API_KEY = 'R8XHK8AH0MOJPGPR'\n",
    "api = 'https://www.alphavantage.co/query'\n",
    "payload = {\n",
    "    'function': 'TIME_SERIES_DAILY',\n",
    "    'symbol': 'AAPL',\n",
    "    'apikey': API_KEY,\n",
    "    'outputsize': 'full',\n",
    "    'datatype': 'csv'\n",
    "}\n",
    "response = requests.get(api, params=payload)"
   ]
  },
  {
   "cell_type": "markdown",
   "id": "3ec9e4f2-e620-4190-90d9-314ab1154380",
   "metadata": {},
   "source": [
    "#### Task 2: Verify the status code of the API response to confirm the successful execution of the request."
   ]
  },
  {
   "cell_type": "code",
   "execution_count": 4,
   "id": "4daa6d5f-38ab-427f-8c25-c6991ecba6a3",
   "metadata": {
    "tags": []
   },
   "outputs": [
    {
     "data": {
      "text/plain": [
       "200"
      ]
     },
     "execution_count": 4,
     "metadata": {},
     "output_type": "execute_result"
    }
   ],
   "source": [
    "response.status_code "
   ]
  },
  {
   "cell_type": "markdown",
   "id": "d41d8007-a6d0-4d77-b714-5408b28527ab",
   "metadata": {},
   "source": [
    "#### Task 3: Load the retrieved data into a Pandas DataFrame named `stock`."
   ]
  },
  {
   "cell_type": "code",
   "execution_count": 5,
   "id": "5a6aa0bf-2519-42f8-b0c5-3a7fb2bb682b",
   "metadata": {
    "tags": []
   },
   "outputs": [],
   "source": [
    "stock = pd.read_csv(io.StringIO(response.content.decode('utf-8')))"
   ]
  },
  {
   "cell_type": "markdown",
   "id": "714201b5-06cd-4e44-ae5f-04da9bf4c4b1",
   "metadata": {},
   "source": [
    "#### Task 4: Observe the first 15 entries."
   ]
  },
  {
   "cell_type": "code",
   "execution_count": 6,
   "id": "51686c8b-e359-4216-96f0-3db6c4d7869a",
   "metadata": {
    "tags": []
   },
   "outputs": [
    {
     "data": {
      "text/html": [
       "<div>\n",
       "<style scoped>\n",
       "    .dataframe tbody tr th:only-of-type {\n",
       "        vertical-align: middle;\n",
       "    }\n",
       "\n",
       "    .dataframe tbody tr th {\n",
       "        vertical-align: top;\n",
       "    }\n",
       "\n",
       "    .dataframe thead th {\n",
       "        text-align: right;\n",
       "    }\n",
       "</style>\n",
       "<table border=\"1\" class=\"dataframe\">\n",
       "  <thead>\n",
       "    <tr style=\"text-align: right;\">\n",
       "      <th></th>\n",
       "      <th>timestamp</th>\n",
       "      <th>open</th>\n",
       "      <th>high</th>\n",
       "      <th>low</th>\n",
       "      <th>close</th>\n",
       "      <th>volume</th>\n",
       "    </tr>\n",
       "  </thead>\n",
       "  <tbody>\n",
       "    <tr>\n",
       "      <th>0</th>\n",
       "      <td>2023-09-29</td>\n",
       "      <td>172.02</td>\n",
       "      <td>173.070</td>\n",
       "      <td>170.341</td>\n",
       "      <td>171.21</td>\n",
       "      <td>51861083</td>\n",
       "    </tr>\n",
       "    <tr>\n",
       "      <th>1</th>\n",
       "      <td>2023-09-28</td>\n",
       "      <td>169.34</td>\n",
       "      <td>172.030</td>\n",
       "      <td>167.620</td>\n",
       "      <td>170.69</td>\n",
       "      <td>56294419</td>\n",
       "    </tr>\n",
       "    <tr>\n",
       "      <th>2</th>\n",
       "      <td>2023-09-27</td>\n",
       "      <td>172.62</td>\n",
       "      <td>173.040</td>\n",
       "      <td>169.050</td>\n",
       "      <td>170.43</td>\n",
       "      <td>66921808</td>\n",
       "    </tr>\n",
       "    <tr>\n",
       "      <th>3</th>\n",
       "      <td>2023-09-26</td>\n",
       "      <td>174.82</td>\n",
       "      <td>175.200</td>\n",
       "      <td>171.660</td>\n",
       "      <td>171.96</td>\n",
       "      <td>64588945</td>\n",
       "    </tr>\n",
       "    <tr>\n",
       "      <th>4</th>\n",
       "      <td>2023-09-25</td>\n",
       "      <td>174.20</td>\n",
       "      <td>176.970</td>\n",
       "      <td>174.150</td>\n",
       "      <td>176.08</td>\n",
       "      <td>46172740</td>\n",
       "    </tr>\n",
       "    <tr>\n",
       "      <th>5</th>\n",
       "      <td>2023-09-22</td>\n",
       "      <td>174.67</td>\n",
       "      <td>177.079</td>\n",
       "      <td>174.050</td>\n",
       "      <td>174.79</td>\n",
       "      <td>56725385</td>\n",
       "    </tr>\n",
       "    <tr>\n",
       "      <th>6</th>\n",
       "      <td>2023-09-21</td>\n",
       "      <td>174.55</td>\n",
       "      <td>176.300</td>\n",
       "      <td>173.860</td>\n",
       "      <td>173.93</td>\n",
       "      <td>63149116</td>\n",
       "    </tr>\n",
       "    <tr>\n",
       "      <th>7</th>\n",
       "      <td>2023-09-20</td>\n",
       "      <td>179.26</td>\n",
       "      <td>179.695</td>\n",
       "      <td>175.400</td>\n",
       "      <td>175.49</td>\n",
       "      <td>58436181</td>\n",
       "    </tr>\n",
       "    <tr>\n",
       "      <th>8</th>\n",
       "      <td>2023-09-19</td>\n",
       "      <td>177.52</td>\n",
       "      <td>179.630</td>\n",
       "      <td>177.130</td>\n",
       "      <td>179.07</td>\n",
       "      <td>51826941</td>\n",
       "    </tr>\n",
       "    <tr>\n",
       "      <th>9</th>\n",
       "      <td>2023-09-18</td>\n",
       "      <td>176.48</td>\n",
       "      <td>179.380</td>\n",
       "      <td>176.170</td>\n",
       "      <td>177.97</td>\n",
       "      <td>67257573</td>\n",
       "    </tr>\n",
       "    <tr>\n",
       "      <th>10</th>\n",
       "      <td>2023-09-15</td>\n",
       "      <td>176.48</td>\n",
       "      <td>176.495</td>\n",
       "      <td>173.820</td>\n",
       "      <td>175.01</td>\n",
       "      <td>109259461</td>\n",
       "    </tr>\n",
       "    <tr>\n",
       "      <th>11</th>\n",
       "      <td>2023-09-14</td>\n",
       "      <td>174.00</td>\n",
       "      <td>176.100</td>\n",
       "      <td>173.580</td>\n",
       "      <td>175.74</td>\n",
       "      <td>60895757</td>\n",
       "    </tr>\n",
       "    <tr>\n",
       "      <th>12</th>\n",
       "      <td>2023-09-13</td>\n",
       "      <td>176.51</td>\n",
       "      <td>177.300</td>\n",
       "      <td>173.980</td>\n",
       "      <td>174.21</td>\n",
       "      <td>84267928</td>\n",
       "    </tr>\n",
       "    <tr>\n",
       "      <th>13</th>\n",
       "      <td>2023-09-12</td>\n",
       "      <td>179.49</td>\n",
       "      <td>180.130</td>\n",
       "      <td>174.820</td>\n",
       "      <td>176.30</td>\n",
       "      <td>90370192</td>\n",
       "    </tr>\n",
       "    <tr>\n",
       "      <th>14</th>\n",
       "      <td>2023-09-11</td>\n",
       "      <td>180.07</td>\n",
       "      <td>180.300</td>\n",
       "      <td>177.340</td>\n",
       "      <td>179.36</td>\n",
       "      <td>58953052</td>\n",
       "    </tr>\n",
       "  </tbody>\n",
       "</table>\n",
       "</div>"
      ],
      "text/plain": [
       "     timestamp    open     high      low   close     volume\n",
       "0   2023-09-29  172.02  173.070  170.341  171.21   51861083\n",
       "1   2023-09-28  169.34  172.030  167.620  170.69   56294419\n",
       "2   2023-09-27  172.62  173.040  169.050  170.43   66921808\n",
       "3   2023-09-26  174.82  175.200  171.660  171.96   64588945\n",
       "4   2023-09-25  174.20  176.970  174.150  176.08   46172740\n",
       "5   2023-09-22  174.67  177.079  174.050  174.79   56725385\n",
       "6   2023-09-21  174.55  176.300  173.860  173.93   63149116\n",
       "7   2023-09-20  179.26  179.695  175.400  175.49   58436181\n",
       "8   2023-09-19  177.52  179.630  177.130  179.07   51826941\n",
       "9   2023-09-18  176.48  179.380  176.170  177.97   67257573\n",
       "10  2023-09-15  176.48  176.495  173.820  175.01  109259461\n",
       "11  2023-09-14  174.00  176.100  173.580  175.74   60895757\n",
       "12  2023-09-13  176.51  177.300  173.980  174.21   84267928\n",
       "13  2023-09-12  179.49  180.130  174.820  176.30   90370192\n",
       "14  2023-09-11  180.07  180.300  177.340  179.36   58953052"
      ]
     },
     "execution_count": 6,
     "metadata": {},
     "output_type": "execute_result"
    }
   ],
   "source": [
    "stock.head(15)"
   ]
  },
  {
   "cell_type": "markdown",
   "id": "8b3ff65a-354b-4a75-89a5-ad9fa88885cd",
   "metadata": {},
   "source": [
    "#### Task 5: Change the column name 'timestamp' to 'date'."
   ]
  },
  {
   "cell_type": "code",
   "execution_count": 7,
   "id": "3df0b315-fc6b-4c88-b7e4-a9bb4cf70f90",
   "metadata": {
    "tags": []
   },
   "outputs": [],
   "source": [
    "stock = stock.rename(columns={'timestamp':'date'})"
   ]
  },
  {
   "cell_type": "markdown",
   "id": "06024fcc-3265-4864-99db-b281ccf79444",
   "metadata": {
    "tags": []
   },
   "source": [
    "#### Task 6: Set the 'date' column as the index of the DataFrame and ensure it's in datetime format."
   ]
  },
  {
   "cell_type": "code",
   "execution_count": 8,
   "id": "cb9a902f-a8cc-4491-b65b-ec1c016f2ee0",
   "metadata": {
    "tags": []
   },
   "outputs": [],
   "source": [
    "stock.date = pd.to_datetime(stock.date)\n",
    "stock = stock.set_index('date')"
   ]
  },
  {
   "cell_type": "markdown",
   "id": "41997c20-d9b6-4b0f-b743-b3d22ee3d263",
   "metadata": {},
   "source": [
    "#### Task 7: Arrange the entries in the DataFrame in ascending order, from the oldest to the most recent."
   ]
  },
  {
   "cell_type": "code",
   "execution_count": 9,
   "id": "3836866c-f7cf-49ff-ac06-bee9d186a510",
   "metadata": {
    "tags": []
   },
   "outputs": [],
   "source": [
    "stock = stock.sort_index(ascending=True)"
   ]
  },
  {
   "cell_type": "markdown",
   "id": "6700c66a-55c1-4132-a5f6-5350448eabd5",
   "metadata": {
    "tags": []
   },
   "source": [
    "#### Task 8: What is the difference in days between the most recent day and the oldest day?"
   ]
  },
  {
   "cell_type": "code",
   "execution_count": 10,
   "id": "7d6d84d2-7d59-47af-89fc-d9ac6f08f08e",
   "metadata": {
    "tags": []
   },
   "outputs": [
    {
     "name": "stdout",
     "output_type": "stream",
     "text": [
      "8733 days\n"
     ]
    }
   ],
   "source": [
    "stock.index = pd.to_datetime(stock.index)\n",
    "stock\n",
    "print((stock.index.max() - stock.index.min()).days,'days')"
   ]
  },
  {
   "cell_type": "markdown",
   "id": "68790576-7d9e-400b-babe-cf2b653aaaee",
   "metadata": {},
   "source": [
    "#### Task 9: Plot the time series of 'close' prices over the entire period."
   ]
  },
  {
   "cell_type": "code",
   "execution_count": 11,
   "id": "9690d8ec-c563-4da8-98a9-cfca095aef12",
   "metadata": {
    "tags": []
   },
   "outputs": [
    {
     "data": {
      "text/plain": [
       "<AxesSubplot:xlabel='date'>"
      ]
     },
     "execution_count": 11,
     "metadata": {},
     "output_type": "execute_result"
    },
    {
     "data": {
      "image/png": "[encoded data removed]",
      "text/plain": [
       "<Figure size 720x432 with 1 Axes>"
      ]
     },
     "metadata": {
      "needs_background": "light"
     },
     "output_type": "display_data"
    }
   ],
   "source": [
    "stock['close'].plot(figsize=(10,6))"
   ]
  },
  {
   "cell_type": "markdown",
   "id": "b94c8297-a544-4b2d-933c-bc473515f18f",
   "metadata": {
    "tags": []
   },
   "source": [
    "#### Task 10: Identify the highest closing price recorded during the entire time frame, along with the corresponding date, and conduct online research to understand the event that triggered this notable price surge. Provide a concise summary of the event."
   ]
  },
  {
   "cell_type": "code",
   "execution_count": 12,
   "id": "a57f9e25-d1b2-475d-8f90-e705c799321a",
   "metadata": {
    "tags": []
   },
   "outputs": [
    {
     "data": {
      "text/html": [
       "<div>\n",
       "<style scoped>\n",
       "    .dataframe tbody tr th:only-of-type {\n",
       "        vertical-align: middle;\n",
       "    }\n",
       "\n",
       "    .dataframe tbody tr th {\n",
       "        vertical-align: top;\n",
       "    }\n",
       "\n",
       "    .dataframe thead th {\n",
       "        text-align: right;\n",
       "    }\n",
       "</style>\n",
       "<table border=\"1\" class=\"dataframe\">\n",
       "  <thead>\n",
       "    <tr style=\"text-align: right;\">\n",
       "      <th></th>\n",
       "      <th>open</th>\n",
       "      <th>high</th>\n",
       "      <th>low</th>\n",
       "      <th>close</th>\n",
       "      <th>volume</th>\n",
       "    </tr>\n",
       "    <tr>\n",
       "      <th>date</th>\n",
       "      <th></th>\n",
       "      <th></th>\n",
       "      <th></th>\n",
       "      <th></th>\n",
       "      <th></th>\n",
       "    </tr>\n",
       "  </thead>\n",
       "  <tbody>\n",
       "    <tr>\n",
       "      <th>2012-09-19</th>\n",
       "      <td>700.26</td>\n",
       "      <td>703.99</td>\n",
       "      <td>699.57</td>\n",
       "      <td>702.1</td>\n",
       "      <td>11674100</td>\n",
       "    </tr>\n",
       "  </tbody>\n",
       "</table>\n",
       "</div>"
      ],
      "text/plain": [
       "              open    high     low  close    volume\n",
       "date                                               \n",
       "2012-09-19  700.26  703.99  699.57  702.1  11674100"
      ]
     },
     "execution_count": 12,
     "metadata": {},
     "output_type": "execute_result"
    }
   ],
   "source": [
    "stock[stock['close']==stock['close'].max()]\n",
    "#stock.iloc[stock['close'].argmax()]"
   ]
  },
  {
   "cell_type": "markdown",
   "id": "a08357a8",
   "metadata": {},
   "source": [
    "IPhone 5 was released"
   ]
  },
  {
   "cell_type": "markdown",
   "id": "c47ba86f-a4b3-41bf-8c41-f1190c343bf3",
   "metadata": {
    "tags": []
   },
   "source": [
    "#### Task 11: Resample the data at a different frequency, from daily to monthly. Calculate the mean 'close' price for each resampled period. Plot the resulting aggregated data."
   ]
  },
  {
   "cell_type": "code",
   "execution_count": 13,
   "id": "acc42b23-db5c-4e42-b614-a698aeec8e3c",
   "metadata": {
    "tags": []
   },
   "outputs": [
    {
     "name": "stdout",
     "output_type": "stream",
     "text": [
      "date\n",
      "1999-11-30     90.007143\n",
      "1999-12-31    103.400000\n",
      "2000-01-31    103.359500\n",
      "2000-02-29    111.636000\n",
      "2000-03-31    128.502609\n",
      "                 ...    \n",
      "2023-05-31    172.622500\n",
      "2023-06-30    184.283333\n",
      "2023-07-31    192.411500\n",
      "2023-08-31    181.083696\n",
      "2023-09-30    177.002500\n",
      "Freq: M, Name: close, Length: 287, dtype: float64\n"
     ]
    },
    {
     "data": {
      "text/plain": [
       "<AxesSubplot:xlabel='date'>"
      ]
     },
     "execution_count": 13,
     "metadata": {},
     "output_type": "execute_result"
    },
    {
     "data": {
      "image/png": "[encoded data removed]",
      "text/plain": [
       "<Figure size 432x288 with 1 Axes>"
      ]
     },
     "metadata": {
      "needs_background": "light"
     },
     "output_type": "display_data"
    }
   ],
   "source": [
    "s = stock.resample('M')['close'].mean()\n",
    "print(s)\n",
    "s.plot()"
   ]
  },
  {
   "cell_type": "markdown",
   "id": "73665c33-235c-4336-837d-9c402c026b7a",
   "metadata": {},
   "source": [
    "#### Task 12: Which month experiences the highest trading volume on average?"
   ]
  },
  {
   "cell_type": "code",
   "execution_count": 14,
   "id": "87ef9ad5-2f1e-4504-8358-d2620854de4f",
   "metadata": {
    "tags": []
   },
   "outputs": [
    {
     "data": {
      "text/plain": [
       "9"
      ]
     },
     "execution_count": 14,
     "metadata": {},
     "output_type": "execute_result"
    }
   ],
   "source": [
    "stock.groupby(stock.index.month)['volume'].mean().idxmax()"
   ]
  },
  {
   "cell_type": "markdown",
   "id": "12bb8ddc-d82c-4142-ba68-287101a6eb22",
   "metadata": {},
   "source": [
    "#### Task 13: On which date was the greatest disparity between the opening and closing prices observed?"
   ]
  },
  {
   "cell_type": "code",
   "execution_count": 15,
   "id": "362643df-68c1-44cc-9be1-55d462fe4df5",
   "metadata": {
    "tags": []
   },
   "outputs": [
    {
     "data": {
      "text/html": [
       "<div>\n",
       "<style scoped>\n",
       "    .dataframe tbody tr th:only-of-type {\n",
       "        vertical-align: middle;\n",
       "    }\n",
       "\n",
       "    .dataframe tbody tr th {\n",
       "        vertical-align: top;\n",
       "    }\n",
       "\n",
       "    .dataframe thead th {\n",
       "        text-align: right;\n",
       "    }\n",
       "</style>\n",
       "<table border=\"1\" class=\"dataframe\">\n",
       "  <thead>\n",
       "    <tr style=\"text-align: right;\">\n",
       "      <th></th>\n",
       "      <th>open</th>\n",
       "      <th>high</th>\n",
       "      <th>low</th>\n",
       "      <th>close</th>\n",
       "      <th>volume</th>\n",
       "    </tr>\n",
       "    <tr>\n",
       "      <th>date</th>\n",
       "      <th></th>\n",
       "      <th></th>\n",
       "      <th></th>\n",
       "      <th></th>\n",
       "      <th></th>\n",
       "    </tr>\n",
       "  </thead>\n",
       "  <tbody>\n",
       "    <tr>\n",
       "      <th>2012-04-17</th>\n",
       "      <td>578.94</td>\n",
       "      <td>610.0</td>\n",
       "      <td>571.91</td>\n",
       "      <td>609.7</td>\n",
       "      <td>36626000</td>\n",
       "    </tr>\n",
       "  </tbody>\n",
       "</table>\n",
       "</div>"
      ],
      "text/plain": [
       "              open   high     low  close    volume\n",
       "date                                              \n",
       "2012-04-17  578.94  610.0  571.91  609.7  36626000"
      ]
     },
     "execution_count": 15,
     "metadata": {},
     "output_type": "execute_result"
    }
   ],
   "source": [
    "def disparity(stock):\n",
    "    diff = abs(stock['open'] - stock['close'])\n",
    "    return diff.idxmax()\n",
    "\n",
    "result = disparity(stock)\n",
    "stock[stock.index==result]\n",
    "#stock.loc[abs((stock['open']-stock['close'])).idxmax()]"
   ]
  },
  {
   "cell_type": "markdown",
   "id": "6f04a5e8-19e8-4e27-8a43-43b6be114517",
   "metadata": {},
   "source": [
    "#### Task 14: What was the lowest opening price for each year?"
   ]
  },
  {
   "cell_type": "code",
   "execution_count": 16,
   "id": "95cb93fd-d8f8-4ecb-ac9d-49deadd853f3",
   "metadata": {
    "tags": []
   },
   "outputs": [
    {
     "data": {
      "text/plain": [
       "date\n",
       "1999     78.00\n",
       "2000     13.78\n",
       "2001     14.50\n",
       "2002     13.54\n",
       "2003     12.99\n",
       "2004     21.42\n",
       "2005     34.20\n",
       "2006     51.73\n",
       "2007     83.00\n",
       "2008     81.93\n",
       "2009     79.45\n",
       "2010    192.37\n",
       "2011    316.68\n",
       "2012    409.40\n",
       "2013    387.97\n",
       "2014     90.21\n",
       "2015     94.87\n",
       "2016     90.00\n",
       "2017    115.80\n",
       "2018    148.15\n",
       "2019    143.98\n",
       "2020    104.54\n",
       "2021    119.03\n",
       "2022    127.99\n",
       "2023    126.01\n",
       "Name: open, dtype: float64"
      ]
     },
     "execution_count": 16,
     "metadata": {},
     "output_type": "execute_result"
    }
   ],
   "source": [
    "stock.groupby(stock.index.year)['open'].min()"
   ]
  },
  {
   "cell_type": "markdown",
   "id": "78771d19-a992-47d6-8869-efc8fe385940",
   "metadata": {},
   "source": [
    "#### Task 15: Produce a graph representing the high price column for the current month (09/2023). After analyzing this graph, would you consider purchasing or selling the stock?"
   ]
  },
  {
   "cell_type": "code",
   "execution_count": 17,
   "id": "7a1de9af-bd0e-49a0-9452-037075f2079d",
   "metadata": {
    "tags": []
   },
   "outputs": [
    {
     "data": {
      "text/plain": [
       "<AxesSubplot:xlabel='date'>"
      ]
     },
     "execution_count": 17,
     "metadata": {},
     "output_type": "execute_result"
    },
    {
     "data": {
      "image/png": "[encoded data removed]",
      "text/plain": [
       "<Figure size 576x576 with 1 Axes>"
      ]
     },
     "metadata": {
      "needs_background": "light"
     },
     "output_type": "display_data"
    }
   ],
   "source": [
    "s = stock['2023-09-01':'2023-09-28']['high']\n",
    "s.plot(figsize=(8,8))\n",
    "#stock['2023-09-01':], will lead to most recent date instead of chosen date"
   ]
  },
  {
   "cell_type": "markdown",
   "id": "e2282a0e",
   "metadata": {},
   "source": [
    "I would definetley wait a little before purchasing in case it went down further but def wouldn't sell in case ot went back up"
   ]
  },
  {
   "cell_type": "markdown",
   "id": "4b59969a-7df3-4cd0-b3f9-f833d7d0b389",
   "metadata": {
    "tags": []
   },
   "source": [
    "#### Task 16: What is the average low price over the past seven weeks?"
   ]
  },
  {
   "cell_type": "code",
   "execution_count": 18,
   "id": "44db42c7-b034-4150-b8b2-18968108f58e",
   "metadata": {
    "tags": []
   },
   "outputs": [
    {
     "data": {
      "text/plain": [
       "176.42238235294118"
      ]
     },
     "execution_count": 18,
     "metadata": {},
     "output_type": "execute_result"
    }
   ],
   "source": [
    "#stock['2023-08-10':]['low'].mean()\n",
    "stock.last('7W')['low'].mean()"
   ]
  },
  {
   "cell_type": "markdown",
   "id": "6e5e3b71-e261-48fe-bf41-6ff66d518908",
   "metadata": {},
   "source": [
    "#### Task 17: Calculate and visualize the rolling 30-day average volume."
   ]
  },
  {
   "cell_type": "code",
   "execution_count": 19,
   "id": "e8ae99b3-6b28-4304-a770-9531a27394d3",
   "metadata": {
    "tags": []
   },
   "outputs": [
    {
     "data": {
      "text/plain": [
       "<AxesSubplot:xlabel='date'>"
      ]
     },
     "execution_count": 19,
     "metadata": {},
     "output_type": "execute_result"
    },
    {
     "data": {
      "image/png": "[encoded data removed]",
      "text/plain": [
       "<Figure size 432x288 with 1 Axes>"
      ]
     },
     "metadata": {
      "needs_background": "light"
     },
     "output_type": "display_data"
    }
   ],
   "source": [
    "stock.rolling(window='30D')['volume'].mean().plot()"
   ]
  },
  {
   "cell_type": "markdown",
   "id": "dd6ee3e6-2e44-4048-b7dd-78b8e8f3d918",
   "metadata": {},
   "source": [
    "#### Task 18: Calculate the daily price changes for the 'close' column. Create a new column named 'PriceChange' to store these changes. Create a line plot (kind='line') to visualize the daily price changes over time."
   ]
  },
  {
   "cell_type": "code",
   "execution_count": 20,
   "id": "66a1b885-430c-413f-a6f3-1c9ce8edd394",
   "metadata": {
    "tags": []
   },
   "outputs": [
    {
     "name": "stdout",
     "output_type": "stream",
     "text": [
      "              open    high      low   close    volume  PriceChange\n",
      "date                                                              \n",
      "1999-11-01   80.00   80.69   77.370   77.62   2487300          NaN\n",
      "1999-11-02   78.00   81.69   77.310   80.25   3564600         2.63\n",
      "1999-11-03   81.62   83.25   81.000   81.50   2932700         1.25\n",
      "1999-11-04   82.06   85.37   80.620   83.62   3384700         2.12\n",
      "1999-11-05   84.62   88.37   84.000   88.31   3721500         4.69\n",
      "...            ...     ...      ...     ...       ...          ...\n",
      "2023-09-25  174.20  176.97  174.150  176.08  46172740         1.29\n",
      "2023-09-26  174.82  175.20  171.660  171.96  64588945        -4.12\n",
      "2023-09-27  172.62  173.04  169.050  170.43  66921808        -1.53\n",
      "2023-09-28  169.34  172.03  167.620  170.69  56294419         0.26\n",
      "2023-09-29  172.02  173.07  170.341  171.21  51861083         0.52\n",
      "\n",
      "[6017 rows x 6 columns]\n"
     ]
    },
    {
     "data": {
      "image/png": "[encoded data removed]",
      "text/plain": [
       "<Figure size 432x288 with 1 Axes>"
      ]
     },
     "metadata": {
      "needs_background": "light"
     },
     "output_type": "display_data"
    }
   ],
   "source": [
    "stock['PriceChange'] = stock['close'].diff()\n",
    "stock['PriceChange'].plot(kind='line')\n",
    "print(stock)"
   ]
  },
  {
   "cell_type": "markdown",
   "id": "72df27cf-daa7-4bce-954a-baa9d3261a47",
   "metadata": {},
   "source": [
    "#### Task 19: Answer the following questions (based on task 18):\n",
    "* On which date did the largest negative daily price change occur, and what was the magnitude of the decrease?\n",
    "* What significant events or occurrences took place on that particular date that could potentially account for the observed change?"
   ]
  },
  {
   "cell_type": "code",
   "execution_count": 21,
   "id": "6960dc91-59be-4fdf-9107-ddceea0d5dba",
   "metadata": {
    "tags": []
   },
   "outputs": [
    {
     "data": {
      "text/html": [
       "<div>\n",
       "<style scoped>\n",
       "    .dataframe tbody tr th:only-of-type {\n",
       "        vertical-align: middle;\n",
       "    }\n",
       "\n",
       "    .dataframe tbody tr th {\n",
       "        vertical-align: top;\n",
       "    }\n",
       "\n",
       "    .dataframe thead th {\n",
       "        text-align: right;\n",
       "    }\n",
       "</style>\n",
       "<table border=\"1\" class=\"dataframe\">\n",
       "  <thead>\n",
       "    <tr style=\"text-align: right;\">\n",
       "      <th></th>\n",
       "      <th>open</th>\n",
       "      <th>high</th>\n",
       "      <th>low</th>\n",
       "      <th>close</th>\n",
       "      <th>volume</th>\n",
       "      <th>PriceChange</th>\n",
       "    </tr>\n",
       "    <tr>\n",
       "      <th>date</th>\n",
       "      <th></th>\n",
       "      <th></th>\n",
       "      <th></th>\n",
       "      <th></th>\n",
       "      <th></th>\n",
       "      <th></th>\n",
       "    </tr>\n",
       "  </thead>\n",
       "  <tbody>\n",
       "    <tr>\n",
       "      <th>2014-06-09</th>\n",
       "      <td>92.7</td>\n",
       "      <td>93.88</td>\n",
       "      <td>91.75</td>\n",
       "      <td>93.7</td>\n",
       "      <td>75414997</td>\n",
       "      <td>-551.87</td>\n",
       "    </tr>\n",
       "  </tbody>\n",
       "</table>\n",
       "</div>"
      ],
      "text/plain": [
       "            open   high    low  close    volume  PriceChange\n",
       "date                                                        \n",
       "2014-06-09  92.7  93.88  91.75   93.7  75414997      -551.87"
      ]
     },
     "execution_count": 21,
     "metadata": {},
     "output_type": "execute_result"
    }
   ],
   "source": [
    "stock[stock['PriceChange']==stock['PriceChange'].min()]\n",
    "#stock.loc[stock[\"PriceChange\"].idxmin()]"
   ]
  },
  {
   "cell_type": "markdown",
   "id": "70459b68",
   "metadata": {},
   "source": [
    "Apple's stock split"
   ]
  },
  {
   "cell_type": "markdown",
   "id": "e4556f94-e390-4a04-b39a-a8d345ce63cb",
   "metadata": {},
   "source": [
    "#### Task 20: Create your own question and answer it."
   ]
  },
  {
   "cell_type": "markdown",
   "id": "94b2d5d7",
   "metadata": {},
   "source": [
    "#### Compute the expanding sum and mean of the data frame since this day in 2000 and present and visualize it"
   ]
  },
  {
   "cell_type": "code",
   "execution_count": 33,
   "id": "a9ca0879-9c41-4d19-abfd-2e507bdadfa2",
   "metadata": {},
   "outputs": [
    {
     "name": "stdout",
     "output_type": "stream",
     "text": [
      "AxesSubplot(0.125,0.2;0.775x0.68)\n"
     ]
    },
    {
     "data": {
      "image/png": "[encoded data removed]",
      "text/plain": [
       "<Figure size 432x288 with 1 Axes>"
      ]
     },
     "metadata": {
      "needs_background": "light"
     },
     "output_type": "display_data"
    }
   ],
   "source": [
    "s = stock.last('23Y')\n",
    "s.expanding().agg(['sum', 'mean'])\n",
    "print(s.plot())"
   ]
  }
 ],
 "metadata": {
  "kernelspec": {
   "display_name": "Python 3 (ipykernel)",
   "language": "python",
   "name": "python3"
  },
  "language_info": {
   "codemirror_mode": {
    "name": "ipython",
    "version": 3
   },
   "file_extension": ".py",
   "mimetype": "text/x-python",
   "name": "python",
   "nbconvert_exporter": "python",
   "pygments_lexer": "ipython3",
   "version": "3.11.5"
  }
 },
 "nbformat": 4,
 "nbformat_minor": 5
}
